{
 "cells": [
  {
   "cell_type": "code",
   "execution_count": 1,
   "metadata": {},
   "outputs": [],
   "source": [
    "from pyspark.sql import SparkSession\n",
    "spark = SparkSession.builder \\\n",
    ".appName('new_app_name') \\\n",
    ".master('local[*]') \\\n",
    ".getOrCreate()"
   ]
  },
  {
   "cell_type": "code",
   "execution_count": 2,
   "metadata": {},
   "outputs": [],
   "source": [
    "player_file_path =r\"C:\\Users\\Timothy\\OneDrive\\桌面\\BU Fall '24\\Project\\player_stats\\per_game_stats.csv\"\n",
    "adv_player_file_path =r\"C:\\Users\\Timothy\\OneDrive\\桌面\\BU Fall '24\\Project\\player_stats\\advanced_stats.csv\"\n",
    "\n",
    "players_df = spark.read.csv(player_file_path, header=True, inferSchema=True)\n",
    "adv_players_df = spark.read.csv(adv_player_file_path, header=True, inferSchema=True)"
   ]
  },
  {
   "cell_type": "code",
   "execution_count": 3,
   "metadata": {},
   "outputs": [],
   "source": [
    "from pyspark.sql import functions as F\n",
    "from pyspark.sql import Window\n",
    "\n",
    "\n",
    "window = Window.partitionBy(\"Player Reference\", \"Season\")\n",
    "\n",
    "# Add a column that flags whether Tm is 'TOT'\n",
    "players_df = players_df.withColumn(\"is_tot\", F.when(F.col(\"Tm\") == \"TOT\", 1).otherwise(0))\n",
    "\n",
    "\n",
    "players_df = players_df.withColumn(\"total_count\", F.count(\"*\").over(window))\n",
    "\n",
    "\n",
    "players_df = players_df.filter(\n",
    "    (F.col(\"Tm\") == \"TOT\") | (F.col(\"total_count\") == 1)\n",
    ")\n",
    "\n",
    "# Drop the helper columns ('is_tot', 'total_count') after filtering\n",
    "players_df = players_df.drop(\"is_tot\", \"total_count\")\n",
    "##END\n",
    "\n",
    "# Add a column that flags whether Tm is 'TOT'\n",
    "adv_players_df = adv_players_df.withColumn(\"is_tot\", F.when(F.col(\"Tm\") == \"TOT\", 1).otherwise(0))\n",
    "\n",
    "# Count how many entries exist for each 'Player Reference' and 'Season'\n",
    "adv_players_df = adv_players_df.withColumn(\"total_count\", F.count(\"*\").over(window))\n",
    "\n",
    "# Filter the DataFrame:\n",
    "\n",
    "adv_players_df = adv_players_df.filter(\n",
    "    (F.col(\"Tm\") == \"TOT\") | (F.col(\"total_count\") == 1)\n",
    ")\n",
    "adv_players_df = adv_players_df.drop(\"is_tot\", \"total_count\")\n"
   ]
  },
  {
   "cell_type": "code",
   "execution_count": null,
   "metadata": {},
   "outputs": [],
   "source": [
    "from pyspark.sql.window import Window\n",
    "\n",
    "#ACTIVE PLAYER 1/0\n",
    "\n",
    "# Check if the player has a record in the '2023-24' season to determine if they are active\n",
    "active_players = players_df.filter(F.col('Season') == '2023-2024').select('Player Reference').distinct()\n",
    "\n",
    "# Add a new column 'Active_Player' which checks if the player has played in '2023-2024'\n",
    "players_df = players_df.withColumn(\n",
    "    \"Active_Player\",\n",
    "    F.when(F.col('Player Reference').isin([row['Player Reference'] for row in active_players.collect()]), 1).otherwise(0)\n",
    ")"
   ]
  },
  {
   "cell_type": "code",
   "execution_count": 5,
   "metadata": {},
   "outputs": [],
   "source": [
    "from pyspark.sql import functions as F\n",
    "\n",
    "# Group by 'Player Reference' and count the distinct seasons played\n",
    "season_count = players_df.groupBy('Player Reference').agg(F.countDistinct('Season').alias('Total_Seasons_Played'))\n",
    "players_df = players_df.join(season_count, on='Player Reference', how='left')"
   ]
  },
  {
   "cell_type": "code",
   "execution_count": 6,
   "metadata": {},
   "outputs": [],
   "source": [
    "\n",
    "window_spec = Window.partitionBy(\"Player Reference\").orderBy(\"Season\")\n",
    "\n",
    "# Add a new column 'Season_Rank' which will indicate 1st, 2nd, 3rd, etc.\n",
    "players_df = players_df.withColumn(\"Season_Rank\", F.row_number().over(window_spec))"
   ]
  },
  {
   "cell_type": "code",
   "execution_count": 7,
   "metadata": {},
   "outputs": [],
   "source": [
    "from pyspark.sql import functions as F\n",
    "\n",
    "# Our data would start form 1979-1980 season.\n",
    "start_season = '1946-1947'\n",
    "end_season = '1978-1979'\n",
    "\n",
    "# Filter the DataFrame to remove rows between the defined seasons\n",
    "players_df = players_df.filter(~((F.col('Season') >= start_season) & (F.col('Season') <= end_season)))\n",
    "adv_players_df = adv_players_df.filter(~((F.col('Season') >= start_season) & (F.col('Season') <= end_season)))\n"
   ]
  },
  {
   "cell_type": "code",
   "execution_count": 8,
   "metadata": {},
   "outputs": [
    {
     "name": "stdout",
     "output_type": "stream",
     "text": [
      "+--------------------+---+----+---+---+------+----+-----+-----+-----+----+----+----+----+----+----+----+----+---+---+----+-----+----+----+----+----+----------------+---------+------+\n",
      "|              Player|Pos| Age| Tm|  G|    MP| PER|  TS%| 3PAr|  FTr|ORB%|DRB%|TRB%|AST%|STL%|BLK%|TOV%|USG%|OWS|DWS|  WS|WS/48|OBPM|DBPM| BPM|VORP|Player Reference|   Season|League|\n",
      "+--------------------+---+----+---+---+------+----+-----+-----+-----+----+----+----+----+----+----+----+----+---+---+----+-----+----+----+----+----+----------------+---------+------+\n",
      "|Kareem Abdul-Jabbar*|  C|36.0|LAL| 80|2622.0|21.3|0.608|0.001|0.318| 7.8|16.8|12.7|11.5| 1.0| 2.9|13.5|25.1|5.9|3.1| 8.9|0.163| 2.8| 0.2| 3.0| 3.3|       abdulka01|1983-1984|   NBA|\n",
      "|Kareem Abdul-Jabbar*|  C|32.0|LAL| 82|3143.0|25.3|0.639|0.001|0.344| 7.2|22.2|15.4|16.5| 1.2| 4.6|15.7|24.1|9.5|5.3|14.8|0.227| 4.8| 2.4| 7.2| 7.3|       abdulka01|1979-1980|   NBA|\n",
      "|Kareem Abdul-Jabbar*|  C|41.0|LAL| 74|1695.0|12.9|0.511|0.005| 0.25| 7.3|14.2|11.0| 6.1| 1.1| 2.9|11.5|20.1|0.9|2.0| 2.9|0.082|-1.9|-0.2|-2.1| 0.0|       abdulka01|1988-1989|   NBA|\n",
      "|Kareem Abdul-Jabbar*|  C|37.0|LAL| 79|2630.0|22.9|0.628|0.001|0.327| 7.7|18.2|13.5|13.1| 1.1| 3.3|12.5|24.3|7.6|3.6|11.2|0.204| 3.9| 1.2| 5.1| 4.8|       abdulka01|1984-1985|   NBA|\n",
      "|Kareem Abdul-Jabbar*|  C|33.0|LAL| 80|2976.0|25.5|0.616|0.001|0.379| 7.6|21.5|15.0|13.6| 0.9| 4.0|12.8|26.3|9.6|4.6|14.3| 0.23| 4.7| 1.4| 6.1| 6.1|       abdulka01|1980-1981|   NBA|\n",
      "|Kareem Abdul-Jabbar*|  C|38.0|LAL| 79|2629.0|22.7|0.603|0.001|0.328| 6.0|14.2|10.3|15.7| 1.2| 2.7|11.7|26.6|7.6|3.2|10.8|0.197| 4.4| 1.0| 5.4| 4.9|       abdulka01|1985-1986|   NBA|\n",
      "|Kareem Abdul-Jabbar*|  C|34.0|LAL| 76|2677.0|23.4|0.608|0.002| 0.34| 7.3|19.1|13.4|11.9| 1.1| 4.1|13.3|25.6|6.9|3.9|10.7|0.192| 3.8| 1.2| 5.0| 4.7|       abdulka01|1981-1982|   NBA|\n",
      "|Kareem Abdul-Jabbar*|  C|35.0|LAL| 79|2554.0|23.6|0.619|0.002|0.302| 7.6|17.6|12.8|10.8| 1.1| 3.5|12.6|24.6|8.0|2.9|10.9|0.205| 4.0| 0.5| 4.5| 4.2|       abdulka01|1982-1983|   NBA|\n",
      "|Kareem Abdul-Jabbar*|  C|39.0|LAL| 78|2441.0|17.9|0.597|0.003|0.345| 7.4|15.8|11.9|11.6| 0.9| 2.2|14.0|22.1|4.5|3.0| 7.5|0.148| 1.4| 0.1| 1.6| 2.2|       abdulka01|1986-1987|   NBA|\n",
      "|Kareem Abdul-Jabbar*|  C|40.0|LAL| 80|2308.0|15.8| 0.57|0.001|0.298| 6.1|16.9|11.7| 8.4| 1.0| 2.2|13.5|21.4|2.6|2.7| 5.3|0.111|-0.1| 0.1| 0.0| 1.2|       abdulka01|1987-1988|   NBA|\n",
      "+--------------------+---+----+---+---+------+----+-----+-----+-----+----+----+----+----+----+----+----+----+---+---+----+-----+----+----+----+----+----------------+---------+------+\n",
      "\n"
     ]
    }
   ],
   "source": [
    "adv_players_df.filter(adv_players_df['Player'] == 'Kareem Abdul-Jabbar*').show()"
   ]
  },
  {
   "cell_type": "code",
   "execution_count": 9,
   "metadata": {},
   "outputs": [
    {
     "name": "stdout",
     "output_type": "stream",
     "text": [
      "19375 19375\n"
     ]
    }
   ],
   "source": [
    "print(players_df.count(), adv_players_df.count())"
   ]
  },
  {
   "cell_type": "code",
   "execution_count": 10,
   "metadata": {},
   "outputs": [
    {
     "name": "stdout",
     "output_type": "stream",
     "text": [
      "+----------------+---------+------------------+----+---+----+-----+---+-----+-----+---+---+---+---+---+--------------------+-----------+-------------+---+-----+\n",
      "|Player Reference|   Season|            Player| Age|  G|  MP|  3P%|TRB|  FG%|  FT%|AST|STL|BLK|TOV|PTS|Total_Seasons_Played|Season_Rank|Active_Player| WS|WS/48|\n",
      "+----------------+---------+------------------+----+---+----+-----+---+-----+-----+---+---+---+---+---+--------------------+-----------+-------------+---+-----+\n",
      "|       champju01|2021-2022| Justin Champagnie|20.0| 36| 7.8|0.357|2.0|0.463|  1.0|0.3|0.2|0.1|0.2|2.3|                   3|          1|            1|0.8|0.138|\n",
      "|       champju01|2022-2023| Justin Champagnie|21.0|  5| 6.8|  0.2|1.6|0.333| null|0.8|0.2|0.0|0.0|2.2|                   3|          2|            1|0.0|0.009|\n",
      "|       champju01|2023-2024| Justin Champagnie|22.0|  2| 5.0|0.333|0.0|0.714| null|0.0|0.5|0.0|0.5|5.5|                   3|          3|            1|0.0|0.097|\n",
      "|       dejeabr01|2015-2016|Bryce Dejean-Jones|23.0| 14|19.9|0.375|3.4|0.406|0.524|1.1|0.7|0.1|0.8|5.6|                   1|          1|            0|0.2|0.033|\n",
      "|       douglto01|2009-2010|     Toney Douglas|23.0| 56|19.4|0.389|1.9|0.458|0.809|2.0|0.8|0.1|1.0|8.6|                   8|          1|            0|2.2|0.097|\n",
      "+----------------+---------+------------------+----+---+----+-----+---+-----+-----+---+---+---+---+---+--------------------+-----------+-------------+---+-----+\n",
      "only showing top 5 rows\n",
      "\n"
     ]
    }
   ],
   "source": [
    "# Join two data sets, the standard one and the advanced one.\n",
    "select_df = players_df.select(\n",
    "    'Player',\"Age\", \"G\", \"MP\" , \"3P%\",\"TRB\", 'FG%','FT%',\"AST\", \"STL\", \"BLK\", \"TOV\", \n",
    "     \"PTS\", \"Total_Seasons_Played\", \"Season_Rank\",'Player Reference', 'Season','Active_Player'\n",
    ")\n",
    "\n",
    "# \"PER\", \"TS%\", \"OWS\", \"DWS\", \"VORP\",\n",
    "\n",
    "select_adv_df = adv_players_df.select(\n",
    "    'WS','WS/48','Player Reference', 'Season'\n",
    ")\n",
    "\n",
    "data = select_df.join(select_adv_df, on=['Player Reference', 'Season'], how='inner')\n",
    "\n",
    "data.show(5)"
   ]
  },
  {
   "cell_type": "code",
   "execution_count": 11,
   "metadata": {},
   "outputs": [],
   "source": [
    "from pyspark.sql import functions as F\n",
    "from pyspark.sql.window import Window\n",
    "\n",
    "#Select Veteran Players (Players that have been in the league for 3+ seasons.)\n",
    "\n",
    "# Define the window partitioning by 'Player Reference' and ordering by 'Season'\n",
    "window_spec = Window.partitionBy(\"Player Reference\").orderBy(\"Season\")\n",
    "\n",
    "# Add previous 1st, 2nd, and 3rd year data for all the categories, but only if 'Season_Rank' is >= 4\n",
    "veteran_data = data.withColumn(\"Prev_G_1\", F.when(F.col(\"Season_Rank\") >= 4, F.lag(\"G\", 1).over(window_spec))) \\\n",
    "       .withColumn(\"Prev_MP_1\", F.when(F.col(\"Season_Rank\") >= 4, F.lag(\"MP\", 1).over(window_spec))) \\\n",
    "       .withColumn(\"Prev_3P%_1\", F.when(F.col(\"Season_Rank\") >= 4, F.lag(\"3P%\", 1).over(window_spec))) \\\n",
    "       .withColumn(\"Prev_TRB_1\", F.when(F.col(\"Season_Rank\") >= 4, F.lag(\"TRB\", 1).over(window_spec))) \\\n",
    "       .withColumn(\"Prev_FG%_1\", F.when(F.col(\"Season_Rank\") >= 4, F.lag(\"FG%\", 1).over(window_spec))) \\\n",
    "       .withColumn(\"Prev_FT%_1\", F.when(F.col(\"Season_Rank\") >= 4, F.lag(\"FT%\", 1).over(window_spec))) \\\n",
    "       .withColumn(\"Prev_AST_1\", F.when(F.col(\"Season_Rank\") >= 4, F.lag(\"AST\", 1).over(window_spec))) \\\n",
    "       .withColumn(\"Prev_STL_1\", F.when(F.col(\"Season_Rank\") >= 4, F.lag(\"STL\", 1).over(window_spec))) \\\n",
    "       .withColumn(\"Prev_BLK_1\", F.when(F.col(\"Season_Rank\") >= 4, F.lag(\"BLK\", 1).over(window_spec))) \\\n",
    "       .withColumn(\"Prev_TOV_1\", F.when(F.col(\"Season_Rank\") >= 4, F.lag(\"TOV\", 1).over(window_spec))) \\\n",
    "       .withColumn(\"Prev_PTS_1\", F.when(F.col(\"Season_Rank\") >= 4, F.lag(\"PTS\", 1).over(window_spec))) \\\n",
    "       .withColumn(\"Prev_WS_1\", F.when(F.col(\"Season_Rank\") >= 4, F.lag(\"WS\", 1).over(window_spec))) \\\n",
    "       .withColumn(\"Prev_WS/48_1\", F.when(F.col(\"Season_Rank\") >= 4, F.lag(\"WS/48\", 1).over(window_spec))) \\\n",
    "       .withColumn(\"Prev_G_2\", F.when(F.col(\"Season_Rank\") >= 4, F.lag(\"G\", 2).over(window_spec))) \\\n",
    "       .withColumn(\"Prev_MP_2\", F.when(F.col(\"Season_Rank\") >= 4, F.lag(\"MP\", 2).over(window_spec))) \\\n",
    "       .withColumn(\"Prev_3P%_2\", F.when(F.col(\"Season_Rank\") >= 4, F.lag(\"3P%\", 2).over(window_spec))) \\\n",
    "       .withColumn(\"Prev_TRB_2\", F.when(F.col(\"Season_Rank\") >= 4, F.lag(\"TRB\", 2).over(window_spec))) \\\n",
    "       .withColumn(\"Prev_FG%_2\", F.when(F.col(\"Season_Rank\") >= 4, F.lag(\"FG%\", 2).over(window_spec))) \\\n",
    "       .withColumn(\"Prev_FT%_2\", F.when(F.col(\"Season_Rank\") >= 4, F.lag(\"FT%\", 2).over(window_spec))) \\\n",
    "       .withColumn(\"Prev_AST_2\", F.when(F.col(\"Season_Rank\") >= 4, F.lag(\"AST\", 2).over(window_spec))) \\\n",
    "       .withColumn(\"Prev_STL_2\", F.when(F.col(\"Season_Rank\") >= 4, F.lag(\"STL\", 2).over(window_spec))) \\\n",
    "       .withColumn(\"Prev_BLK_2\", F.when(F.col(\"Season_Rank\") >= 4, F.lag(\"BLK\", 2).over(window_spec))) \\\n",
    "       .withColumn(\"Prev_TOV_2\", F.when(F.col(\"Season_Rank\") >= 4, F.lag(\"TOV\", 2).over(window_spec))) \\\n",
    "       .withColumn(\"Prev_PTS_2\", F.when(F.col(\"Season_Rank\") >= 4, F.lag(\"PTS\", 2).over(window_spec))) \\\n",
    "       .withColumn(\"Prev_WS_2\", F.when(F.col(\"Season_Rank\") >= 4, F.lag(\"WS\", 2).over(window_spec))) \\\n",
    "       .withColumn(\"Prev_WS/48_2\", F.when(F.col(\"Season_Rank\") >= 4, F.lag(\"WS/48\", 2).over(window_spec))) \\\n",
    "       .withColumn(\"Prev_G_3\", F.when(F.col(\"Season_Rank\") >= 4, F.lag(\"G\", 3).over(window_spec))) \\\n",
    "       .withColumn(\"Prev_MP_3\", F.when(F.col(\"Season_Rank\") >= 4, F.lag(\"MP\", 3).over(window_spec))) \\\n",
    "       .withColumn(\"Prev_3P%_3\", F.when(F.col(\"Season_Rank\") >= 4, F.lag(\"3P%\", 3).over(window_spec))) \\\n",
    "       .withColumn(\"Prev_TRB_3\", F.when(F.col(\"Season_Rank\") >= 4, F.lag(\"TRB\", 3).over(window_spec))) \\\n",
    "       .withColumn(\"Prev_FG%_3\", F.when(F.col(\"Season_Rank\") >= 4, F.lag(\"FG%\", 3).over(window_spec))) \\\n",
    "       .withColumn(\"Prev_FT%_3\", F.when(F.col(\"Season_Rank\") >= 4, F.lag(\"FT%\", 3).over(window_spec))) \\\n",
    "       .withColumn(\"Prev_AST_3\", F.when(F.col(\"Season_Rank\") >= 4, F.lag(\"AST\", 3).over(window_spec))) \\\n",
    "       .withColumn(\"Prev_STL_3\", F.when(F.col(\"Season_Rank\") >= 4, F.lag(\"STL\", 3).over(window_spec))) \\\n",
    "       .withColumn(\"Prev_BLK_3\", F.when(F.col(\"Season_Rank\") >= 4, F.lag(\"BLK\", 3).over(window_spec))) \\\n",
    "       .withColumn(\"Prev_TOV_3\", F.when(F.col(\"Season_Rank\") >= 4, F.lag(\"TOV\", 3).over(window_spec))) \\\n",
    "       .withColumn(\"Prev_PTS_3\", F.when(F.col(\"Season_Rank\") >= 4, F.lag(\"PTS\", 3).over(window_spec))) \\\n",
    "       .withColumn(\"Prev_WS_3\", F.when(F.col(\"Season_Rank\") >= 4, F.lag(\"WS\", 3).over(window_spec))) \\\n",
    "       .withColumn(\"Prev_WS/48_3\", F.when(F.col(\"Season_Rank\") >= 4, F.lag(\"WS/48\", 3).over(window_spec)))\n",
    "\n",
    "veteran_data = veteran_data.filter(F.col(\"Season_Rank\") >= 4)\n",
    "veteran_data = veteran_data.filter(F.col(\"Prev_G_3\").isNotNull())\n",
    "veteran_data = veteran_data.fillna(0)"
   ]
  },
  {
   "cell_type": "code",
   "execution_count": 12,
   "metadata": {},
   "outputs": [],
   "source": [
    "from pyspark.sql import functions as F\n",
    "for col in ['G', 'MP', '3P%', 'TRB', 'FG%', 'FT%', 'AST', 'STL', 'BLK', 'TOV', 'PTS', 'WS', 'WS/48']:\n",
    "    veteran_data = veteran_data.withColumn(f\"{col}_Percent_Change_1\", \n",
    "                                           F.when(F.col(f\"Prev_{col}_2\") != 0, \n",
    "                                                  ((F.col(f\"Prev_{col}_1\") - F.col(f\"Prev_{col}_2\")) / F.col(f\"Prev_{col}_2\")) * 100)\n",
    "                                           .otherwise(0))\n",
    "\n",
    "\n",
    "for col in ['G', 'MP', '3P%', 'TRB', 'FG%', 'FT%', 'AST', 'STL', 'BLK', 'TOV', 'PTS', 'WS', 'WS/48']:\n",
    "    veteran_data = veteran_data.withColumn(f\"{col}_Percent_Change_2\", \n",
    "                                           F.when(F.col(f\"Prev_{col}_3\") != 0, \n",
    "                                                  ((F.col(f\"Prev_{col}_2\") - F.col(f\"Prev_{col}_3\")) / F.col(f\"Prev_{col}_3\")) * 100)\n",
    "                                           .otherwise(0))\n",
    "\n"
   ]
  },
  {
   "cell_type": "code",
   "execution_count": 13,
   "metadata": {},
   "outputs": [
    {
     "name": "stdout",
     "output_type": "stream",
     "text": [
      "+----------------+---------+--------------------+----+---+----+-----+---+-----+-----+---+---+---+---+----+--------------------+-----------+-------------+----+-----+--------+---------+----------+----------+----------+----------+----------+----------+----------+----------+----------+---------+------------+--------+---------+----------+----------+----------+----------+----------+----------+----------+----------+----------+---------+------------+--------+---------+----------+----------+----------+----------+----------+----------+----------+----------+----------+---------+------------+-------------------+-------------------+--------------------+--------------------+--------------------+--------------------+--------------------+--------------------+--------------------+--------------------+--------------------+-------------------+----------------------+-------------------+-------------------+--------------------+--------------------+--------------------+--------------------+--------------------+--------------------+--------------------+--------------------+--------------------+-------------------+----------------------+\n",
      "|Player Reference|   Season|              Player| Age|  G|  MP|  3P%|TRB|  FG%|  FT%|AST|STL|BLK|TOV| PTS|Total_Seasons_Played|Season_Rank|Active_Player|  WS|WS/48|Prev_G_1|Prev_MP_1|Prev_3P%_1|Prev_TRB_1|Prev_FG%_1|Prev_FT%_1|Prev_AST_1|Prev_STL_1|Prev_BLK_1|Prev_TOV_1|Prev_PTS_1|Prev_WS_1|Prev_WS/48_1|Prev_G_2|Prev_MP_2|Prev_3P%_2|Prev_TRB_2|Prev_FG%_2|Prev_FT%_2|Prev_AST_2|Prev_STL_2|Prev_BLK_2|Prev_TOV_2|Prev_PTS_2|Prev_WS_2|Prev_WS/48_2|Prev_G_3|Prev_MP_3|Prev_3P%_3|Prev_TRB_3|Prev_FG%_3|Prev_FT%_3|Prev_AST_3|Prev_STL_3|Prev_BLK_3|Prev_TOV_3|Prev_PTS_3|Prev_WS_3|Prev_WS/48_3| G_Percent_Change_1|MP_Percent_Change_1|3P%_Percent_Change_1|TRB_Percent_Change_1|FG%_Percent_Change_1|FT%_Percent_Change_1|AST_Percent_Change_1|STL_Percent_Change_1|BLK_Percent_Change_1|TOV_Percent_Change_1|PTS_Percent_Change_1|WS_Percent_Change_1|WS/48_Percent_Change_1| G_Percent_Change_2|MP_Percent_Change_2|3P%_Percent_Change_2|TRB_Percent_Change_2|FG%_Percent_Change_2|FT%_Percent_Change_2|AST_Percent_Change_2|STL_Percent_Change_2|BLK_Percent_Change_2|TOV_Percent_Change_2|PTS_Percent_Change_2|WS_Percent_Change_2|WS/48_Percent_Change_2|\n",
      "+----------------+---------+--------------------+----+---+----+-----+---+-----+-----+---+---+---+---+----+--------------------+-----------+-------------+----+-----+--------+---------+----------+----------+----------+----------+----------+----------+----------+----------+----------+---------+------------+--------+---------+----------+----------+----------+----------+----------+----------+----------+----------+----------+---------+------------+--------+---------+----------+----------+----------+----------+----------+----------+----------+----------+----------+---------+------------+-------------------+-------------------+--------------------+--------------------+--------------------+--------------------+--------------------+--------------------+--------------------+--------------------+--------------------+-------------------+----------------------+-------------------+-------------------+--------------------+--------------------+--------------------+--------------------+--------------------+--------------------+--------------------+--------------------+--------------------+-------------------+----------------------+\n",
      "|       douglto01|2012-2013|       Toney Douglas|26.0| 71|18.2| 0.38|1.9|0.403|0.905|2.1|1.0|0.0|1.1| 7.5|                   8|          4|            0| 2.4|0.089|      38|     17.3|     0.231|       1.9|     0.324|     0.846|       2.0|       0.8|       0.0|       1.5|       6.2|     -0.6|      -0.046|      81|     24.3|     0.373|       3.0|     0.416|     0.794|       3.0|       1.1|       0.0|       1.1|      10.6|      4.2|       0.101|      56|     19.4|     0.389|       1.9|     0.458|     0.809|       2.0|       0.8|       0.1|       1.0|       8.6|      2.2|       0.097|-53.086419753086425|-28.806584362139915| -38.069705093833775|  -36.66666666666667|  -22.11538461538461|   6.549118387909311|  -33.33333333333333| -27.272727272727277|                 0.0|   36.36363636363635|  -41.50943396226415|-114.28571428571428|   -145.54455445544556| 44.642857142857146| 25.257731958762896|  -4.113110539845763|   57.89473684210527|  -9.170305676855902| -1.8541409147095196|                50.0|   37.50000000000001|              -100.0|  10.000000000000009|   23.25581395348837|   90.9090909090909|     4.123711340206189|\n",
      "|       douglto01|2013-2014|       Toney Douglas|27.0| 51|13.2|0.304|1.7|0.384|0.735|1.3|0.4|0.1|0.7| 4.0|                   8|          5|            0| 0.9|0.061|      71|     18.2|      0.38|       1.9|     0.403|     0.905|       2.1|       1.0|       0.0|       1.1|       7.5|      2.4|       0.089|      38|     17.3|     0.231|       1.9|     0.324|     0.846|       2.0|       0.8|       0.0|       1.5|       6.2|     -0.6|      -0.046|      81|     24.3|     0.373|       3.0|     0.416|     0.794|       3.0|       1.1|       0.0|       1.1|      10.6|      4.2|       0.101|   86.8421052631579|  5.202312138728315|   64.50216450216449|                 0.0|   24.38271604938272|   6.973995271867619|   5.000000000000004|  24.999999999999993|                 0.0|  -26.66666666666666|  20.967741935483865|             -500.0|   -293.47826086956525|-53.086419753086425|-28.806584362139915| -38.069705093833775|  -36.66666666666667|  -22.11538461538461|   6.549118387909311|  -33.33333333333333| -27.272727272727277|                 0.0|   36.36363636363635|  -41.50943396226415|-114.28571428571428|   -145.54455445544556|\n",
      "|       douglto01|2014-2015|       Toney Douglas|28.0| 12|14.8|0.278|1.8|0.373|0.615|2.0|0.9|0.3|0.8| 4.3|                   8|          6|            0| 0.2|0.046|      51|     13.2|     0.304|       1.7|     0.384|     0.735|       1.3|       0.4|       0.1|       0.7|       4.0|      0.9|       0.061|      71|     18.2|      0.38|       1.9|     0.403|     0.905|       2.1|       1.0|       0.0|       1.1|       7.5|      2.4|       0.089|      38|     17.3|     0.231|       1.9|     0.324|     0.846|       2.0|       0.8|       0.0|       1.5|       6.2|     -0.6|      -0.046|-28.169014084507044|-27.472527472527474| -20.000000000000004| -10.526315789473681| -4.7146401985111694| -18.784530386740336| -38.095238095238095|               -60.0|                 0.0|  -36.36363636363637| -46.666666666666664|              -62.5|    -31.46067415730337|   86.8421052631579|  5.202312138728315|   64.50216450216449|                 0.0|   24.38271604938272|   6.973995271867619|   5.000000000000004|  24.999999999999993|                 0.0|  -26.66666666666666|  20.967741935483865|             -500.0|   -293.47826086956525|\n",
      "|       douglto01|2015-2016|       Toney Douglas|29.0| 61|20.7|0.399|2.3|0.411|0.848|2.6|1.1|0.1|1.0| 8.7|                   8|          7|            0| 2.5|0.094|      12|     14.8|     0.278|       1.8|     0.373|     0.615|       2.0|       0.9|       0.3|       0.8|       4.3|      0.2|       0.046|      51|     13.2|     0.304|       1.7|     0.384|     0.735|       1.3|       0.4|       0.1|       0.7|       4.0|      0.9|       0.061|      71|     18.2|      0.38|       1.9|     0.403|     0.905|       2.1|       1.0|       0.0|       1.1|       7.5|      2.4|       0.089| -76.47058823529412| 12.121212121212132|  -8.552631578947357|   5.882352941176476| -2.8645833333333357|   -16.3265306122449|   53.84615384615385|               125.0|  199.99999999999997|  14.285714285714299|   7.499999999999996| -77.77777777777777|    -24.59016393442623|-28.169014084507044|-27.472527472527474| -20.000000000000004| -10.526315789473681| -4.7146401985111694| -18.784530386740336| -38.095238095238095|               -60.0|                 0.0|  -36.36363636363637| -46.666666666666664|              -62.5|    -31.46067415730337|\n",
      "|       douglto01|2016-2017|       Toney Douglas|30.0| 24|16.4|0.167|2.5|0.368|0.828|2.3|0.8|0.2|0.9| 4.9|                   8|          8|            0| 0.5|0.059|      61|     20.7|     0.399|       2.3|     0.411|     0.848|       2.6|       1.1|       0.1|       1.0|       8.7|      2.5|       0.094|      12|     14.8|     0.278|       1.8|     0.373|     0.615|       2.0|       0.9|       0.3|       0.8|       4.3|      0.2|       0.046|      51|     13.2|     0.304|       1.7|     0.384|     0.735|       1.3|       0.4|       0.1|       0.7|       4.0|      0.9|       0.061|  408.3333333333333|  39.86486486486485|    43.5251798561151|   27.77777777777776|   10.18766756032171|  37.886178861788615|  30.000000000000004|   22.22222222222223|  -66.66666666666666|  24.999999999999993|  102.32558139534882| 1149.9999999999998|    104.34782608695652| -76.47058823529412| 12.121212121212132|  -8.552631578947357|   5.882352941176476| -2.8645833333333357|   -16.3265306122449|   53.84615384615385|               125.0|  199.99999999999997|  14.285714285714299|   7.499999999999996| -77.77777777777777|    -24.59016393442623|\n",
      "|       gilgesh01|2021-2022|Shai Gilgeous-Ale...|23.0| 56|34.7|  0.3|5.0|0.453| 0.81|5.9|1.3|0.8|2.8|24.5|                   6|          4|            1| 4.6|0.113|      35|     33.7|     0.418|       4.7|     0.508|     0.808|       5.9|       0.8|       0.7|       3.0|      23.7|      3.5|       0.143|      70|     34.7|     0.347|       5.9|     0.471|     0.807|       3.3|       1.1|       0.7|       1.9|      19.0|      6.1|       0.121|      82|     26.5|     0.367|       2.8|     0.476|       0.8|       3.3|       1.2|       0.5|       1.7|      10.8|      3.3|       0.074|              -50.0| -2.881844380403458|  20.461095100864558|  -20.33898305084746|   7.855626326963915| 0.12391573729863703|   78.78787878787881| -27.272727272727277|                 0.0|   57.89473684210527|  24.736842105263154| -42.62295081967213|    18.181818181818176|-14.634146341463413| 30.943396226415103|  -5.449591280653956|  110.71428571428574| -1.0504201680672278|  0.8750000000000008|                 0.0|  -8.333333333333323|   39.99999999999999|  11.764705882352938|   75.92592592592592|  84.84848484848484|     63.51351351351352|\n",
      "|       gilgesh01|2022-2023|Shai Gilgeous-Ale...|24.0| 68|35.5|0.345|4.8| 0.51|0.905|5.5|1.6|1.0|2.8|31.4|                   6|          5|            1|11.4|0.226|      56|     34.7|       0.3|       5.0|     0.453|      0.81|       5.9|       1.3|       0.8|       2.8|      24.5|      4.6|       0.113|      35|     33.7|     0.418|       4.7|     0.508|     0.808|       5.9|       0.8|       0.7|       3.0|      23.7|      3.5|       0.143|      70|     34.7|     0.347|       5.9|     0.471|     0.807|       3.3|       1.1|       0.7|       1.9|      19.0|      6.1|       0.121|               60.0| 2.9673590504451037|  -28.22966507177033|   6.382978723404251| -10.826771653543306| 0.24752475247524774|                 0.0|                62.5|  14.285714285714299|  -6.666666666666672|  3.3755274261603407| 31.428571428571416|    -20.97902097902097|              -50.0| -2.881844380403458|  20.461095100864558|  -20.33898305084746|   7.855626326963915| 0.12391573729863703|   78.78787878787881| -27.272727272727277|                 0.0|   57.89473684210527|  24.736842105263154| -42.62295081967213|    18.181818181818176|\n",
      "|       gilgesh01|2023-2024|Shai Gilgeous-Ale...|25.0| 58|34.4|0.392|5.6|0.548|0.882|6.5|2.1|0.9|2.1|31.2|                   6|          6|            1|12.5|  0.3|      68|     35.5|     0.345|       4.8|      0.51|     0.905|       5.5|       1.6|       1.0|       2.8|      31.4|     11.4|       0.226|      56|     34.7|       0.3|       5.0|     0.453|      0.81|       5.9|       1.3|       0.8|       2.8|      24.5|      4.6|       0.113|      35|     33.7|     0.418|       4.7|     0.508|     0.808|       5.9|       0.8|       0.7|       3.0|      23.7|      3.5|       0.143| 21.428571428571427|  2.305475504322758|  14.999999999999996| -4.0000000000000036|   12.58278145695364|  11.728395061728392| -6.7796610169491585|  23.076923076923077|  24.999999999999993|                 0.0|  28.163265306122444| 147.82608695652178|                 100.0|               60.0| 2.9673590504451037|  -28.22966507177033|   6.382978723404251| -10.826771653543306| 0.24752475247524774|                 0.0|                62.5|  14.285714285714299|  -6.666666666666672|  3.3755274261603407| 31.428571428571416|    -20.97902097902097|\n",
      "|       grantbr01|1997-1998|         Brian Grant|25.0| 61|31.5|  0.0|9.1|0.508| 0.75|1.4|0.7|0.7|1.8|12.1|                  12|          4|            0| 6.3|0.157|      24|     25.3|       0.0|       5.9|      0.44|     0.778|       1.2|       0.8|       1.0|       1.8|      10.5|      1.0|       0.075|      78|     30.7|     0.235|       7.0|     0.507|     0.732|       1.6|       0.5|       1.3|       2.4|      14.4|      4.7|       0.094|      80|     28.6|      0.25|       7.5|     0.511|     0.636|       1.2|       0.6|       1.5|       2.0|      13.2|      5.3|       0.112| -69.23076923076923|-17.589576547231268|              -100.0| -15.714285714285708| -13.214990138067062|  6.2841530054644865| -25.000000000000007|   60.00000000000001| -23.076923076923077| -24.999999999999993| -27.083333333333336| -78.72340425531915|   -20.212765957446813|               -2.5|  7.342657342657335|  -6.000000000000005|  -6.666666666666667| -0.7827788649706464|  15.094339622641506|   33.33333333333335| -16.666666666666664|  -13.33333333333333|  19.999999999999996|   9.090909090909099|-11.320754716981126|   -16.071428571428573|\n",
      "|       grantbr01|1998-1999|         Brian Grant|26.0| 48|31.8|  0.0|9.8|0.479|0.814|1.4|0.4|0.7|2.0|11.5|                  12|          5|            0| 5.9|0.185|      61|     31.5|       0.0|       9.1|     0.508|      0.75|       1.4|       0.7|       0.7|       1.8|      12.1|      6.3|       0.157|      24|     25.3|       0.0|       5.9|      0.44|     0.778|       1.2|       0.8|       1.0|       1.8|      10.5|      1.0|       0.075|      78|     30.7|     0.235|       7.0|     0.507|     0.732|       1.6|       0.5|       1.3|       2.4|      14.4|      4.7|       0.094| 154.16666666666669| 24.505928853754938|                 0.0|   54.23728813559321|  15.454545454545457| -3.5989717223650417|  16.666666666666664|  -12.50000000000001| -30.000000000000004|                 0.0|  15.238095238095234|              530.0|    109.33333333333334| -69.23076923076923|-17.589576547231268|              -100.0| -15.714285714285708| -13.214990138067062|  6.2841530054644865| -25.000000000000007|   60.00000000000001| -23.076923076923077| -24.999999999999993| -27.083333333333336| -78.72340425531915|   -20.212765957446813|\n",
      "+----------------+---------+--------------------+----+---+----+-----+---+-----+-----+---+---+---+---+----+--------------------+-----------+-------------+----+-----+--------+---------+----------+----------+----------+----------+----------+----------+----------+----------+----------+---------+------------+--------+---------+----------+----------+----------+----------+----------+----------+----------+----------+----------+---------+------------+--------+---------+----------+----------+----------+----------+----------+----------+----------+----------+----------+---------+------------+-------------------+-------------------+--------------------+--------------------+--------------------+--------------------+--------------------+--------------------+--------------------+--------------------+--------------------+-------------------+----------------------+-------------------+-------------------+--------------------+--------------------+--------------------+--------------------+--------------------+--------------------+--------------------+--------------------+--------------------+-------------------+----------------------+\n",
      "only showing top 10 rows\n",
      "\n"
     ]
    }
   ],
   "source": [
    "veteran_data.show(10)"
   ]
  },
  {
   "cell_type": "code",
   "execution_count": 14,
   "metadata": {},
   "outputs": [],
   "source": [
    "from pyspark.ml.regression import RandomForestRegressor\n",
    "from pyspark.ml.regression import LinearRegression\n",
    "from pyspark.ml.evaluation import RegressionEvaluator\n",
    "from pyspark.ml.feature import VectorAssembler\n",
    "##BEST so FAR\\\n",
    "veteran_data = veteran_data.withColumnRenamed('3P%', '3P_Ptg')\n",
    "veteran_data = veteran_data.filter((F.col('G') > 20) & (F.col('MP') > 10))   \n",
    "\n",
    "# Define the feature columns (last 3 years)\n",
    "feature_columns = [\n",
    "    \"Prev_G_1\", \"Prev_MP_1\", \"Prev_3P%_1\", \"Prev_TRB_1\", \"Prev_FG%_1\", \"Prev_FT%_1\", \"Prev_AST_1\", \"Prev_STL_1\", \"Prev_BLK_1\", \"Prev_TOV_1\", \"Prev_PTS_1\", \n",
    "    \"Prev_WS_1\", \"Prev_WS/48_1\",\n",
    "    # 新增變化百分比特徵  \n",
    "    # 前年與三年前的變化\n",
    "    \"G_Percent_Change_2\", \"MP_Percent_Change_2\", \"3P%_Percent_Change_2\", \"TRB_Percent_Change_2\", \"FG%_Percent_Change_2\", \n",
    "    \"FT%_Percent_Change_2\", \"AST_Percent_Change_2\", \"STL_Percent_Change_2\", \"BLK_Percent_Change_2\", \"TOV_Percent_Change_2\", \"PTS_Percent_Change_2\", \n",
    "    \"WS_Percent_Change_2\", \"WS/48_Percent_Change_2\",\n",
    "    # 去年與前年的變化\n",
    "    \"G_Percent_Change_1\", \"MP_Percent_Change_1\", \"3P%_Percent_Change_1\", \"TRB_Percent_Change_1\", \"FG%_Percent_Change_1\", \n",
    "    \"FT%_Percent_Change_1\", \"AST_Percent_Change_1\", \"STL_Percent_Change_1\", \"BLK_Percent_Change_1\", \"TOV_Percent_Change_1\", \"PTS_Percent_Change_1\", \n",
    "    \"WS_Percent_Change_1\", \"WS/48_Percent_Change_1\"\n",
    "]\n",
    "\n",
    "\n",
    "# Define the target columns (current year)\n",
    "target_columns = ['G', 'MP', '3P_Ptg', 'TRB', 'FG%', 'FT%', 'AST', 'STL', 'BLK', 'TOV', 'PTS', 'WS', 'WS/48']\n",
    "\n",
    "# Step 1: Combine features into a single feature vector using VectorAssembler\n",
    "assembler = VectorAssembler(inputCols=feature_columns, outputCol=\"features\")\n",
    "df_transformed = assembler.transform(veteran_data)\n",
    "\n",
    "\n",
    "# Split the data into train/test sets\n",
    "train_data, test_data = df_transformed.randomSplit([0.7, 0.3], seed=42)\n",
    "train_data.cache()\n",
    "\n",
    "# Create a dictionary to store models and predictions\n",
    "rf_models = {}\n",
    "rf_predictions = {}\n"
   ]
  },
  {
   "cell_type": "code",
   "execution_count": 15,
   "metadata": {},
   "outputs": [
    {
     "name": "stdout",
     "output_type": "stream",
     "text": [
      "+----------------+---------+--------------------+----+---+----+------+----+-----+-----+---+---+---+---+----+--------------------+-----------+-------------+----+-----+--------+---------+----------+----------+----------+----------+----------+----------+----------+----------+----------+---------+------------+--------+---------+----------+----------+----------+----------+----------+----------+----------+----------+----------+---------+------------+--------+---------+----------+----------+----------+----------+----------+----------+----------+----------+----------+---------+------------+-------------------+-------------------+--------------------+--------------------+--------------------+--------------------+--------------------+--------------------+--------------------+--------------------+--------------------+-------------------+----------------------+-------------------+-------------------+--------------------+--------------------+--------------------+--------------------+--------------------+--------------------+--------------------+--------------------+--------------------+-------------------+----------------------+--------------------+\n",
      "|Player Reference|   Season|              Player| Age|  G|  MP|3P_Ptg| TRB|  FG%|  FT%|AST|STL|BLK|TOV| PTS|Total_Seasons_Played|Season_Rank|Active_Player|  WS|WS/48|Prev_G_1|Prev_MP_1|Prev_3P%_1|Prev_TRB_1|Prev_FG%_1|Prev_FT%_1|Prev_AST_1|Prev_STL_1|Prev_BLK_1|Prev_TOV_1|Prev_PTS_1|Prev_WS_1|Prev_WS/48_1|Prev_G_2|Prev_MP_2|Prev_3P%_2|Prev_TRB_2|Prev_FG%_2|Prev_FT%_2|Prev_AST_2|Prev_STL_2|Prev_BLK_2|Prev_TOV_2|Prev_PTS_2|Prev_WS_2|Prev_WS/48_2|Prev_G_3|Prev_MP_3|Prev_3P%_3|Prev_TRB_3|Prev_FG%_3|Prev_FT%_3|Prev_AST_3|Prev_STL_3|Prev_BLK_3|Prev_TOV_3|Prev_PTS_3|Prev_WS_3|Prev_WS/48_3| G_Percent_Change_1|MP_Percent_Change_1|3P%_Percent_Change_1|TRB_Percent_Change_1|FG%_Percent_Change_1|FT%_Percent_Change_1|AST_Percent_Change_1|STL_Percent_Change_1|BLK_Percent_Change_1|TOV_Percent_Change_1|PTS_Percent_Change_1|WS_Percent_Change_1|WS/48_Percent_Change_1| G_Percent_Change_2|MP_Percent_Change_2|3P%_Percent_Change_2|TRB_Percent_Change_2|FG%_Percent_Change_2|FT%_Percent_Change_2|AST_Percent_Change_2|STL_Percent_Change_2|BLK_Percent_Change_2|TOV_Percent_Change_2|PTS_Percent_Change_2|WS_Percent_Change_2|WS/48_Percent_Change_2|            features|\n",
      "+----------------+---------+--------------------+----+---+----+------+----+-----+-----+---+---+---+---+----+--------------------+-----------+-------------+----+-----+--------+---------+----------+----------+----------+----------+----------+----------+----------+----------+----------+---------+------------+--------+---------+----------+----------+----------+----------+----------+----------+----------+----------+----------+---------+------------+--------+---------+----------+----------+----------+----------+----------+----------+----------+----------+----------+---------+------------+-------------------+-------------------+--------------------+--------------------+--------------------+--------------------+--------------------+--------------------+--------------------+--------------------+--------------------+-------------------+----------------------+-------------------+-------------------+--------------------+--------------------+--------------------+--------------------+--------------------+--------------------+--------------------+--------------------+--------------------+-------------------+----------------------+--------------------+\n",
      "|       douglto01|2012-2013|       Toney Douglas|26.0| 71|18.2|  0.38| 1.9|0.403|0.905|2.1|1.0|0.0|1.1| 7.5|                   8|          4|            0| 2.4|0.089|      38|     17.3|     0.231|       1.9|     0.324|     0.846|       2.0|       0.8|       0.0|       1.5|       6.2|     -0.6|      -0.046|      81|     24.3|     0.373|       3.0|     0.416|     0.794|       3.0|       1.1|       0.0|       1.1|      10.6|      4.2|       0.101|      56|     19.4|     0.389|       1.9|     0.458|     0.809|       2.0|       0.8|       0.1|       1.0|       8.6|      2.2|       0.097|-53.086419753086425|-28.806584362139915| -38.069705093833775|  -36.66666666666667|  -22.11538461538461|   6.549118387909311|  -33.33333333333333| -27.272727272727277|                 0.0|   36.36363636363635|  -41.50943396226415|-114.28571428571428|   -145.54455445544556| 44.642857142857146| 25.257731958762896|  -4.113110539845763|   57.89473684210527|  -9.170305676855902| -1.8541409147095196|                50.0|   37.50000000000001|              -100.0|  10.000000000000009|   23.25581395348837|   90.9090909090909|     4.123711340206189|[38.0,17.3,0.231,...|\n",
      "|       douglto01|2013-2014|       Toney Douglas|27.0| 51|13.2| 0.304| 1.7|0.384|0.735|1.3|0.4|0.1|0.7| 4.0|                   8|          5|            0| 0.9|0.061|      71|     18.2|      0.38|       1.9|     0.403|     0.905|       2.1|       1.0|       0.0|       1.1|       7.5|      2.4|       0.089|      38|     17.3|     0.231|       1.9|     0.324|     0.846|       2.0|       0.8|       0.0|       1.5|       6.2|     -0.6|      -0.046|      81|     24.3|     0.373|       3.0|     0.416|     0.794|       3.0|       1.1|       0.0|       1.1|      10.6|      4.2|       0.101|   86.8421052631579|  5.202312138728315|   64.50216450216449|                 0.0|   24.38271604938272|   6.973995271867619|   5.000000000000004|  24.999999999999993|                 0.0|  -26.66666666666666|  20.967741935483865|             -500.0|   -293.47826086956525|-53.086419753086425|-28.806584362139915| -38.069705093833775|  -36.66666666666667|  -22.11538461538461|   6.549118387909311|  -33.33333333333333| -27.272727272727277|                 0.0|   36.36363636363635|  -41.50943396226415|-114.28571428571428|   -145.54455445544556|[71.0,18.2,0.38,1...|\n",
      "|       douglto01|2016-2017|       Toney Douglas|30.0| 24|16.4| 0.167| 2.5|0.368|0.828|2.3|0.8|0.2|0.9| 4.9|                   8|          8|            0| 0.5|0.059|      61|     20.7|     0.399|       2.3|     0.411|     0.848|       2.6|       1.1|       0.1|       1.0|       8.7|      2.5|       0.094|      12|     14.8|     0.278|       1.8|     0.373|     0.615|       2.0|       0.9|       0.3|       0.8|       4.3|      0.2|       0.046|      51|     13.2|     0.304|       1.7|     0.384|     0.735|       1.3|       0.4|       0.1|       0.7|       4.0|      0.9|       0.061|  408.3333333333333|  39.86486486486485|    43.5251798561151|   27.77777777777776|   10.18766756032171|  37.886178861788615|  30.000000000000004|   22.22222222222223|  -66.66666666666666|  24.999999999999993|  102.32558139534882| 1149.9999999999998|    104.34782608695652| -76.47058823529412| 12.121212121212132|  -8.552631578947357|   5.882352941176476| -2.8645833333333357|   -16.3265306122449|   53.84615384615385|               125.0|  199.99999999999997|  14.285714285714299|   7.499999999999996| -77.77777777777777|    -24.59016393442623|[61.0,20.7,0.399,...|\n",
      "|       gilgesh01|2021-2022|Shai Gilgeous-Ale...|23.0| 56|34.7|   0.3| 5.0|0.453| 0.81|5.9|1.3|0.8|2.8|24.5|                   6|          4|            1| 4.6|0.113|      35|     33.7|     0.418|       4.7|     0.508|     0.808|       5.9|       0.8|       0.7|       3.0|      23.7|      3.5|       0.143|      70|     34.7|     0.347|       5.9|     0.471|     0.807|       3.3|       1.1|       0.7|       1.9|      19.0|      6.1|       0.121|      82|     26.5|     0.367|       2.8|     0.476|       0.8|       3.3|       1.2|       0.5|       1.7|      10.8|      3.3|       0.074|              -50.0| -2.881844380403458|  20.461095100864558|  -20.33898305084746|   7.855626326963915| 0.12391573729863703|   78.78787878787881| -27.272727272727277|                 0.0|   57.89473684210527|  24.736842105263154| -42.62295081967213|    18.181818181818176|-14.634146341463413| 30.943396226415103|  -5.449591280653956|  110.71428571428574| -1.0504201680672278|  0.8750000000000008|                 0.0|  -8.333333333333323|   39.99999999999999|  11.764705882352938|   75.92592592592592|  84.84848484848484|     63.51351351351352|[35.0,33.7,0.418,...|\n",
      "|       gilgesh01|2022-2023|Shai Gilgeous-Ale...|24.0| 68|35.5| 0.345| 4.8| 0.51|0.905|5.5|1.6|1.0|2.8|31.4|                   6|          5|            1|11.4|0.226|      56|     34.7|       0.3|       5.0|     0.453|      0.81|       5.9|       1.3|       0.8|       2.8|      24.5|      4.6|       0.113|      35|     33.7|     0.418|       4.7|     0.508|     0.808|       5.9|       0.8|       0.7|       3.0|      23.7|      3.5|       0.143|      70|     34.7|     0.347|       5.9|     0.471|     0.807|       3.3|       1.1|       0.7|       1.9|      19.0|      6.1|       0.121|               60.0| 2.9673590504451037|  -28.22966507177033|   6.382978723404251| -10.826771653543306| 0.24752475247524774|                 0.0|                62.5|  14.285714285714299|  -6.666666666666672|  3.3755274261603407| 31.428571428571416|    -20.97902097902097|              -50.0| -2.881844380403458|  20.461095100864558|  -20.33898305084746|   7.855626326963915| 0.12391573729863703|   78.78787878787881| -27.272727272727277|                 0.0|   57.89473684210527|  24.736842105263154| -42.62295081967213|    18.181818181818176|[56.0,34.7,0.3,5....|\n",
      "|       grantbr01|1997-1998|         Brian Grant|25.0| 61|31.5|   0.0| 9.1|0.508| 0.75|1.4|0.7|0.7|1.8|12.1|                  12|          4|            0| 6.3|0.157|      24|     25.3|       0.0|       5.9|      0.44|     0.778|       1.2|       0.8|       1.0|       1.8|      10.5|      1.0|       0.075|      78|     30.7|     0.235|       7.0|     0.507|     0.732|       1.6|       0.5|       1.3|       2.4|      14.4|      4.7|       0.094|      80|     28.6|      0.25|       7.5|     0.511|     0.636|       1.2|       0.6|       1.5|       2.0|      13.2|      5.3|       0.112| -69.23076923076923|-17.589576547231268|              -100.0| -15.714285714285708| -13.214990138067062|  6.2841530054644865| -25.000000000000007|   60.00000000000001| -23.076923076923077| -24.999999999999993| -27.083333333333336| -78.72340425531915|   -20.212765957446813|               -2.5|  7.342657342657335|  -6.000000000000005|  -6.666666666666667| -0.7827788649706464|  15.094339622641506|   33.33333333333335| -16.666666666666664|  -13.33333333333333|  19.999999999999996|   9.090909090909099|-11.320754716981126|   -16.071428571428573|[24.0,25.3,0.0,5....|\n",
      "|       grantbr01|2000-2001|         Brian Grant|28.0| 82|33.8|   0.0| 8.8|0.479|0.797|1.2|0.7|0.9|2.1|15.2|                  12|          7|            0| 8.7|0.151|      63|     21.0|       0.5|       5.5|     0.491|     0.675|       1.0|       0.5|       0.4|       1.3|       7.3|      3.5|       0.128|      48|     31.8|       0.0|       9.8|     0.479|     0.814|       1.4|       0.4|       0.7|       2.0|      11.5|      5.9|       0.185|      61|     31.5|       0.0|       9.1|     0.508|      0.75|       1.4|       0.7|       0.7|       1.8|      12.1|      6.3|       0.157|              31.25|  -33.9622641509434|                 0.0|  -43.87755102040817|  2.5052192066805867| -17.076167076167064| -28.571428571428566|  24.999999999999993|  -42.85714285714285|               -35.0|  -36.52173913043478| -40.67796610169492|   -30.810810810810807|-21.311475409836063| 0.9523809523809548|                 0.0|   7.692307692307704|   -5.70866141732284|   8.533333333333326|                 0.0|  -42.85714285714285|                 0.0|  11.111111111111107|  -4.958677685950411| -6.349206349206341|      17.8343949044586|[63.0,21.0,0.5,5....|\n",
      "|       grantbr01|2001-2002|         Brian Grant|29.0| 72|31.3|   0.0| 8.0|0.469|0.849|1.9|0.7|0.4|1.7| 9.3|                  12|          8|            0| 4.8|0.103|      82|     33.8|       0.0|       8.8|     0.479|     0.797|       1.2|       0.7|       0.9|       2.1|      15.2|      8.7|       0.151|      63|     21.0|       0.5|       5.5|     0.491|     0.675|       1.0|       0.5|       0.4|       1.3|       7.3|      3.5|       0.128|      48|     31.8|       0.0|       9.8|     0.479|     0.814|       1.4|       0.4|       0.7|       2.0|      11.5|      5.9|       0.185| 30.158730158730158| 60.952380952380935|              -100.0|   60.00000000000001|  -2.443991853360491|  18.074074074074073|  19.999999999999996|   39.99999999999999|               125.0|   61.53846153846154|  108.21917808219177| 148.57142857142856|    17.968749999999993|              31.25|  -33.9622641509434|                 0.0|  -43.87755102040817|  2.5052192066805867| -17.076167076167064| -28.571428571428566|  24.999999999999993|  -42.85714285714285|               -35.0|  -36.52173913043478| -40.67796610169492|   -30.810810810810807|[82.0,33.8,0.0,8....|\n",
      "|       grantbr01|2002-2003|         Brian Grant|30.0| 82|32.2|   0.0|10.2|0.509|0.771|1.3|0.8|0.6|1.6|10.3|                  12|          9|            0| 7.7|0.139|      72|     31.3|       0.0|       8.0|     0.469|     0.849|       1.9|       0.7|       0.4|       1.7|       9.3|      4.8|       0.103|      82|     33.8|       0.0|       8.8|     0.479|     0.797|       1.2|       0.7|       0.9|       2.1|      15.2|      8.7|       0.151|      63|     21.0|       0.5|       5.5|     0.491|     0.675|       1.0|       0.5|       0.4|       1.3|       7.3|      3.5|       0.128|-12.195121951219512| -7.396449704142002|                 0.0|  -9.090909090909099| -2.0876826722338224|  6.5244667503136675|  58.333333333333336|                 0.0|  -55.55555555555556|  -19.04761904761905| -38.815789473684205| -44.82758620689655|   -31.788079470198678| 30.158730158730158| 60.952380952380935|              -100.0|   60.00000000000001|  -2.443991853360491|  18.074074074074073|  19.999999999999996|   39.99999999999999|               125.0|   61.53846153846154|  108.21917808219177| 148.57142857142856|    17.968749999999993|[72.0,31.3,0.0,8....|\n",
      "|       jonesda02|2006-2007|       Dahntay Jones|26.0| 78|21.4| 0.417| 2.0|0.477|0.793|0.9|0.5|0.3|1.2| 7.5|                  13|          4|            0| 0.7|0.019|      71|     13.6|     0.143|       1.5|     0.414|     0.645|       0.5|       0.5|       0.2|       0.7|       4.0|      0.6|       0.029|      52|     12.5|     0.383|       1.3|     0.437|     0.688|       0.4|       0.3|       0.2|       0.6|       4.5|      0.9|       0.066|      20|      7.7|      0.25|       1.2|     0.283|     0.455|       0.6|       0.3|       0.3|       0.6|       1.8|     -0.4|      -0.114|  36.53846153846153|  8.799999999999997|  -62.66318537859008|   15.38461538461538|  -5.263157894736847|  -6.249999999999989|  24.999999999999993|   66.66666666666667|                 0.0|  16.666666666666664|  -11.11111111111111|-33.333333333333336|    -56.06060606060607|              160.0|  62.33766233766234|                53.2|   8.333333333333341|   54.41696113074206|   51.20879120879119|  -33.33333333333333|                 0.0|  -33.33333333333333|                 0.0|               150.0|             -325.0|   -157.89473684210523|[71.0,13.6,0.143,...|\n",
      "|       jonesda02|2008-2009|       Dahntay Jones|28.0| 79|18.1| 0.647| 2.1|0.458|0.728|1.0|0.6|0.2|0.9| 5.4|                  13|          6|            0| 2.0|0.067|      25|      8.2|     0.167|       1.4|     0.434|     0.667|       0.5|       0.3|       0.2|       0.4|       3.2|      0.4|       0.096|      78|     21.4|     0.417|       2.0|     0.477|     0.793|       0.9|       0.5|       0.3|       1.2|       7.5|      0.7|       0.019|      71|     13.6|     0.143|       1.5|     0.414|     0.645|       0.5|       0.5|       0.2|       0.7|       4.0|      0.6|       0.029| -67.94871794871796|  -61.6822429906542|  -59.95203836930455| -30.000000000000004|  -9.014675052410897|   -15.8890290037831|  -44.44444444444445|               -40.0|  -33.33333333333333|  -66.66666666666666| -57.333333333333336| -42.85714285714285|     405.2631578947368|  9.859154929577464|  57.35294117647059|  191.60839160839166|   33.33333333333333|  15.217391304347828|   22.94573643410853|                80.0|                 0.0|  49.999999999999986|   71.42857142857143|                87.5| 16.666666666666664|    -34.48275862068966|[25.0,8.2,0.167,1...|\n",
      "|       jonesda02|2009-2010|       Dahntay Jones|29.0| 76|24.9| 0.125| 3.0|0.461| 0.77|2.0|0.5|0.5|1.7|10.2|                  13|          7|            0| 1.8|0.045|      79|     18.1|     0.647|       2.1|     0.458|     0.728|       1.0|       0.6|       0.2|       0.9|       5.4|      2.0|       0.067|      25|      8.2|     0.167|       1.4|     0.434|     0.667|       0.5|       0.3|       0.2|       0.4|       3.2|      0.4|       0.096|      78|     21.4|     0.417|       2.0|     0.477|     0.793|       0.9|       0.5|       0.3|       1.2|       7.5|      0.7|       0.019|              216.0| 120.73170731707322|  287.42514970059875|  50.000000000000014|   5.529953917050697|   9.145427286356812|               100.0|               100.0|                 0.0|               125.0|               68.75|              400.0|   -30.208333333333332| -67.94871794871796|  -61.6822429906542|  -59.95203836930455| -30.000000000000004|  -9.014675052410897|   -15.8890290037831|  -44.44444444444445|               -40.0|  -33.33333333333333|  -66.66666666666666| -57.333333333333336| -42.85714285714285|     405.2631578947368|[79.0,18.1,0.647,...|\n",
      "|       jonesda02|2011-2012|       Dahntay Jones|31.0| 65|16.2| 0.429| 1.8|0.409|0.838|1.0|0.4|0.2|0.7| 5.3|                  13|          9|            0| 2.0| 0.09|      45|     13.1|     0.359|       1.4|     0.467|     0.767|       0.7|       0.4|       0.2|       0.7|       6.3|      1.2|       0.102|      76|     24.9|     0.125|       3.0|     0.461|      0.77|       2.0|       0.5|       0.5|       1.7|      10.2|      1.8|       0.045|      79|     18.1|     0.647|       2.1|     0.458|     0.728|       1.0|       0.6|       0.2|       0.9|       5.4|      2.0|       0.067| -40.78947368421053|-47.389558232931726|               187.2| -53.333333333333336|  1.3015184381778753|-0.38961038961038996|               -65.0| -19.999999999999996|               -60.0|  -58.82352941176471|  -38.23529411764706|-33.333333333333336|    126.66666666666666|  -3.79746835443038|  37.56906077348064|  -80.68006182380216|   42.85714285714285|  0.6550218340611359|  5.7692307692307745|               100.0| -16.666666666666664|  149.99999999999997|   88.88888888888889|   88.88888888888886| -9.999999999999998|   -32.835820895522396|[45.0,13.1,0.359,...|\n",
      "|        kingre01|1982-1983|         Reggie King|25.0| 58|17.2|   0.0| 4.1|0.462| 0.76|1.0|0.5|0.2|1.1| 4.8|                   6|          4|            0| 1.6|0.077|      80|     32.6|       0.0|       6.5|     0.509|     0.705|       2.2|       1.1|       0.4|       1.9|      12.1|      4.8|       0.087|      81|     33.9|       0.0|       9.7|     0.544|     0.684|       1.5|       1.3|       0.5|       2.0|      14.9|      8.3|       0.145|      82|     25.0|       0.0|       6.9|     0.515|     0.726|       1.3|       0.8|       0.4|       1.2|       8.2|      6.2|       0.146|-1.2345679012345678| -3.834808259587012|                 0.0|  -32.98969072164948|   -6.43382352941177|  3.0701754385964777|   46.66666666666668|  -15.38461538461538| -19.999999999999996|  -5.000000000000004| -18.791946308724835|-42.168674698795186|                 -40.0|-1.2195121951219512| 35.599999999999994|                 0.0|   40.57971014492752|   5.631067961165053|  -5.785123966942138|   15.38461538461538|                62.5|  24.999999999999993|   66.66666666666667|   81.70731707317074| 33.870967741935495|   -0.6849315068493157|[80.0,32.6,0.0,6....|\n",
      "|       mclaujo01|2022-2023|   Jordan McLaughlin|26.0| 43|15.8| 0.308| 1.4|0.421|0.833|3.4|0.7|0.1|0.8| 3.7|                   5|          4|            1| 1.3|0.094|      62|     14.5|     0.318|       1.5|      0.44|      0.75|       2.9|       0.9|       0.2|       0.6|       3.8|      2.3|       0.123|      51|     18.4|     0.359|       2.1|     0.413|     0.767|       3.8|       1.0|       0.1|       1.0|       5.0|      1.2|       0.062|      30|     19.7|     0.382|       1.6|     0.489|     0.667|       4.2|       1.1|       0.1|       1.0|       7.6|      1.6|        0.13| 21.568627450980394| -21.19565217391304|  -11.42061281337047| -28.571428571428577|   6.537530266343832| -2.2164276401564558| -23.684210526315788|  -9.999999999999998|               100.0|               -40.0| -24.000000000000004|  91.66666666666666|     98.38709677419355|               70.0| -6.598984771573608| -6.0209424083769685|               31.25| -15.541922290388552|  14.992503748125932|   -9.52380952380953|  -9.090909090909099|                 0.0|                 0.0| -34.210526315789465|-25.000000000000007|   -52.307692307692314|[62.0,14.5,0.318,...|\n",
      "|       nelsoja01|2007-2008|       Jameer Nelson|25.0| 69|28.4| 0.416| 3.5|0.469|0.828|5.6|0.9|0.1|2.0|10.9|                  14|          4|            0| 5.6|0.136|      77|     30.3|     0.335|       3.1|      0.43|     0.828|       4.3|       0.9|       0.1|       2.4|      13.0|      4.0|       0.082|      62|     28.8|     0.424|       2.9|     0.483|     0.779|       4.9|       1.1|       0.1|       2.4|      14.6|      4.9|       0.132|      79|     20.4|     0.312|       2.4|     0.455|     0.682|       3.0|       1.0|       0.0|       1.5|       8.7|      2.5|       0.074| 24.193548387096776|  5.208333333333333| -20.990566037735842|   6.896551724137938| -10.973084886128364|   6.290115532734266| -12.244897959183684| -18.181818181818183|                 0.0|                 0.0| -10.958904109589039|-18.367346938775515|   -37.878787878787875|-21.518987341772153|  41.17647058823531|   35.89743589743589|  20.833333333333336|   6.153846153846146|  14.222873900293251|   63.33333333333334|  10.000000000000009|                 0.0|                60.0|     67.816091954023|  96.00000000000001|      78.3783783783784|[77.0,30.3,0.335,...|\n",
      "|       nelsoja01|2008-2009|       Jameer Nelson|26.0| 42|31.2| 0.453| 3.5|0.503|0.887|5.4|1.2|0.1|2.0|16.7|                  14|          5|            0| 6.0| 0.22|      69|     28.4|     0.416|       3.5|     0.469|     0.828|       5.6|       0.9|       0.1|       2.0|      10.9|      5.6|       0.136|      77|     30.3|     0.335|       3.1|      0.43|     0.828|       4.3|       0.9|       0.1|       2.4|      13.0|      4.0|       0.082|      62|     28.8|     0.424|       2.9|     0.483|     0.779|       4.9|       1.1|       0.1|       2.4|      14.6|      4.9|       0.132| -10.38961038961039| -6.270627062706277|  24.179104477611926|   12.90322580645161|    9.06976744186046|                 0.0|   30.23255813953488|                 0.0|                 0.0| -16.666666666666664| -16.153846153846153|  39.99999999999999|     65.85365853658537| 24.193548387096776|  5.208333333333333| -20.990566037735842|   6.896551724137938| -10.973084886128364|   6.290115532734266| -12.244897959183684| -18.181818181818183|                 0.0|                 0.0| -10.958904109589039|-18.367346938775515|   -37.878787878787875|[69.0,28.4,0.416,...|\n",
      "|       nelsoja01|2012-2013|       Jameer Nelson|30.0| 56|35.3| 0.341| 3.7|0.392|0.873|7.4|1.3|0.1|2.8|14.7|                  14|          9|            0| 2.1| 0.05|      57|     29.9|     0.377|       3.2|     0.427|     0.807|       5.7|       0.7|       0.1|       2.4|      11.9|      3.5|       0.099|      76|     30.5|     0.401|       3.0|     0.446|     0.802|       6.0|       1.0|       0.0|       2.6|      13.1|      6.6|       0.136|      65|     28.6|     0.381|       3.0|     0.449|     0.845|       5.4|       0.7|       0.0|       2.1|      12.6|      5.0|        0.13|              -25.0| -1.967213114754103|  -5.985037406483795|   6.666666666666672|  -4.260089686098659|  0.6234413965087288| -4.9999999999999964| -30.000000000000004|                 0.0|  -7.692307692307699|  -9.160305343511444| -46.96969696969697|    -27.20588235294118| 16.923076923076923|  6.643356643356638|   5.249343832021002|                 0.0| -0.6681514476614705|  -5.088757396449696|  11.111111111111104|   42.85714285714287|                 0.0|  23.809523809523807|   3.968253968253968| 31.999999999999996|     4.615384615384619|[57.0,29.9,0.377,...|\n",
      "|       nelsoja01|2014-2015|       Jameer Nelson|32.0| 63|22.3| 0.345| 2.3|0.407|0.667|4.0|0.7|0.1|1.7| 8.3|                  14|         11|            0| 1.4|0.047|      68|     32.0|     0.348|       3.4|     0.394|     0.857|       7.0|       0.8|       0.1|       2.4|      12.1|      2.8|       0.062|      56|     35.3|     0.341|       3.7|     0.392|     0.873|       7.4|       1.3|       0.1|       2.8|      14.7|      2.1|        0.05|      57|     29.9|     0.377|       3.2|     0.427|     0.807|       5.7|       0.7|       0.1|       2.4|      11.9|      3.5|       0.099| 21.428571428571427| -9.348441926345602|   2.052785923753651|  -8.108108108108116|  0.5102040816326534|  -1.832760595647195|   -5.40540540540541|  -38.46153846153846|                 0.0| -14.285714285714283|  -17.68707482993197|  33.33333333333332|    23.999999999999993|-1.7543859649122806| 18.060200668896318|  -9.549071618037129|              15.625|  -8.196721311475404|    8.17843866171003|  29.824561403508774|   85.71428571428574|                 0.0|  16.666666666666664|  23.529411764705873|              -40.0|   -49.494949494949495|[68.0,32.0,0.348,...|\n",
      "|       nelsoja01|2017-2018|       Jameer Nelson|35.0| 50|20.3| 0.331| 2.1|0.389|  0.8|3.6|0.5|0.1|1.3| 4.9|                  14|         14|            0| 0.6|0.028|      75|     27.3|     0.388|       2.6|     0.444|     0.714|       5.1|       0.7|       0.1|       1.7|       9.2|      2.8|       0.066|      39|     26.6|     0.299|       2.9|     0.368|     0.857|       4.9|       0.6|       0.1|       1.7|       7.7|      0.5|       0.024|      63|     22.3|     0.345|       2.3|     0.407|     0.667|       4.0|       0.7|       0.1|       1.7|       8.3|      1.4|       0.047|   92.3076923076923|  2.631578947368418|  29.765886287625428| -10.344827586206891|   20.65217391304348| -16.686114352392067|  4.0816326530612095|  16.666666666666664|                 0.0|                 0.0|   19.48051948051947| 459.99999999999994|                 175.0|-38.095238095238095| 19.282511210762333|  -13.33333333333333|  26.086956521739136|  -9.582309582309579|   28.48575712143927|  22.500000000000007| -14.285714285714283|                 0.0|                 0.0|  -7.228915662650608| -64.28571428571428|    -48.93617021276596|[75.0,27.3,0.388,...|\n",
      "+----------------+---------+--------------------+----+---+----+------+----+-----+-----+---+---+---+---+----+--------------------+-----------+-------------+----+-----+--------+---------+----------+----------+----------+----------+----------+----------+----------+----------+----------+---------+------------+--------+---------+----------+----------+----------+----------+----------+----------+----------+----------+----------+---------+------------+--------+---------+----------+----------+----------+----------+----------+----------+----------+----------+----------+---------+------------+-------------------+-------------------+--------------------+--------------------+--------------------+--------------------+--------------------+--------------------+--------------------+--------------------+--------------------+-------------------+----------------------+-------------------+-------------------+--------------------+--------------------+--------------------+--------------------+--------------------+--------------------+--------------------+--------------------+--------------------+-------------------+----------------------+--------------------+\n",
      "only showing top 20 rows\n",
      "\n"
     ]
    }
   ],
   "source": [
    "train_data.show()"
   ]
  },
  {
   "cell_type": "code",
   "execution_count": 16,
   "metadata": {},
   "outputs": [
    {
     "name": "stdout",
     "output_type": "stream",
     "text": [
      "Random Forest RMSE for G: 14.959280016758695\n",
      "Random Forest R-squared for G: 0.11059015460683863\n",
      "Random Forest RMSE for MP: 5.069690869730306\n",
      "Random Forest R-squared for MP: 0.6093645111845165\n",
      "Random Forest RMSE for 3P_Ptg: 0.1117290192407262\n",
      "Random Forest R-squared for 3P_Ptg: 0.5074670920654323\n",
      "Random Forest RMSE for TRB: 1.2728309627082242\n",
      "Random Forest R-squared for TRB: 0.7623003984216392\n",
      "Random Forest RMSE for FG%: 0.039371362254641724\n",
      "Random Forest R-squared for FG%: 0.5328508981792206\n",
      "Random Forest RMSE for FT%: 0.07351425503332783\n",
      "Random Forest R-squared for FT%: 0.5091245973410697\n",
      "Random Forest RMSE for AST: 0.9599888620424696\n",
      "Random Forest R-squared for AST: 0.7876704426308921\n",
      "Random Forest RMSE for STL: 0.2706700673587422\n",
      "Random Forest R-squared for STL: 0.6467201109489524\n",
      "Random Forest RMSE for BLK: 0.27907974130362045\n",
      "Random Forest R-squared for BLK: 0.7526910160971009\n",
      "Random Forest RMSE for TOV: 0.44080456091888187\n",
      "Random Forest R-squared for TOV: 0.6995847410915768\n",
      "Random Forest RMSE for PTS: 3.1625318622557876\n",
      "Random Forest R-squared for PTS: 0.7338054280480735\n",
      "Random Forest RMSE for WS: 2.1128850816597353\n",
      "Random Forest R-squared for WS: 0.5584936936080738\n",
      "Random Forest RMSE for WS/48: 0.03941980656746028\n",
      "Random Forest R-squared for WS/48: 0.4791192781822319\n"
     ]
    }
   ],
   "source": [
    "# Loop through each target column, train the Random Forest model, and make predictions\n",
    "for target in target_columns:\n",
    "    rf = RandomForestRegressor(featuresCol=\"features\", labelCol=target, numTrees=100)\n",
    "    \n",
    "    # Fit the model\n",
    "    rf_model = rf.fit(train_data)\n",
    "    rf_models[target] = rf_model  # Store the trained model\n",
    "    \n",
    "    # Make predictions on test data\n",
    "    rf_pred = rf_model.transform(test_data)\n",
    "    rf_predictions[target] = rf_pred\n",
    "    \n",
    "    # Evaluate the model\n",
    "    evaluator = RegressionEvaluator(labelCol=target, predictionCol=\"prediction\", metricName=\"rmse\")\n",
    "    rmse = evaluator.evaluate(rf_pred)\n",
    "    print(f\"Random Forest RMSE for {target}: {rmse}\")\n",
    "    \n",
    "    r2_evaluator = RegressionEvaluator(labelCol=target, predictionCol=\"prediction\", metricName=\"r2\")\n",
    "    r2 = r2_evaluator.evaluate(rf_pred)\n",
    "    print(f\"Random Forest R-squared for {target}: {r2}\")"
   ]
  },
  {
   "cell_type": "code",
   "execution_count": 43,
   "metadata": {},
   "outputs": [
    {
     "name": "stdout",
     "output_type": "stream",
     "text": [
      "Root Mean Squared Error (RMSE) for G: 15.077873940999444\n",
      "R-squared for G: 0.09643215910966296\n",
      "Root Mean Squared Error (RMSE) for MP: 5.116303380734953\n",
      "R-squared for MP: 0.6021482097749438\n",
      "Root Mean Squared Error (RMSE) for 3P_Ptg: 0.1177108276973298\n",
      "R-squared for 3P_Ptg: 0.4533163233493225\n",
      "Root Mean Squared Error (RMSE) for TRB: 1.1861344718753415\n",
      "R-squared for TRB: 0.7935785394983623\n",
      "Root Mean Squared Error (RMSE) for FG%: 0.03800764185592585\n",
      "R-squared for FG%: 0.5646520688411214\n",
      "Root Mean Squared Error (RMSE) for FT%: 0.07176897150531619\n",
      "R-squared for FT%: 0.5321554287129343\n",
      "Root Mean Squared Error (RMSE) for AST: 0.8656729498409851\n",
      "R-squared for AST: 0.8273423760691238\n",
      "Root Mean Squared Error (RMSE) for STL: 0.25505439861638446\n",
      "R-squared for STL: 0.6863075337501974\n",
      "Root Mean Squared Error (RMSE) for BLK: 0.24469509662601388\n",
      "R-squared for BLK: 0.809877374474805\n",
      "Root Mean Squared Error (RMSE) for TOV: 0.4280528752462412\n",
      "R-squared for TOV: 0.7167142909453414\n",
      "Root Mean Squared Error (RMSE) for PTS: 3.048943941351807\n",
      "R-squared for PTS: 0.7525837302604419\n",
      "Root Mean Squared Error (RMSE) for WS: 2.1019015880651106\n",
      "R-squared for WS: 0.5630719620850424\n",
      "Root Mean Squared Error (RMSE) for WS/48: 0.039393232963629086\n",
      "R-squared for WS/48: 0.47982131168707\n"
     ]
    }
   ],
   "source": [
    "# Step 3: Train a linear regression model for each target variable\n",
    "feature_columns = [\n",
    "    \"Prev_G_1\", \"Prev_MP_1\", \"Prev_3P%_1\", \"Prev_TRB_1\", \"Prev_FG%_1\", \"Prev_FT%_1\", \"Prev_AST_1\", \"Prev_STL_1\", \"Prev_BLK_1\", \"Prev_TOV_1\", \"Prev_PTS_1\", \n",
    "    \"Prev_WS_1\", \"Prev_WS/48_1\",\n",
    "    # 新增變化百分比特徵  \n",
    "    # 前年與三年前的變化\n",
    "    \"G_Percent_Change_2\", \"MP_Percent_Change_2\", \"3P%_Percent_Change_2\", \"TRB_Percent_Change_2\", \"FG%_Percent_Change_2\", \n",
    "    \"FT%_Percent_Change_2\", \"AST_Percent_Change_2\", \"STL_Percent_Change_2\", \"BLK_Percent_Change_2\", \"TOV_Percent_Change_2\", \"PTS_Percent_Change_2\", \n",
    "    \"WS_Percent_Change_2\", \"WS/48_Percent_Change_2\",\n",
    "    # 去年與前年的變化\n",
    "    \"G_Percent_Change_1\", \"MP_Percent_Change_1\", \"3P%_Percent_Change_1\", \"TRB_Percent_Change_1\", \"FG%_Percent_Change_1\", \n",
    "    \"FT%_Percent_Change_1\", \"AST_Percent_Change_1\", \"STL_Percent_Change_1\", \"BLK_Percent_Change_1\", \"TOV_Percent_Change_1\", \"PTS_Percent_Change_1\", \n",
    "    \"WS_Percent_Change_1\", \"WS/48_Percent_Change_1\"\n",
    "]\n",
    "\n",
    "\n",
    "# Define the target columns (current year)\n",
    "target_columns = ['G', 'MP', '3P_Ptg', 'TRB', 'FG%', 'FT%', 'AST', 'STL', 'BLK', 'TOV', 'PTS', 'WS', 'WS/48']\n",
    "\n",
    "# Step 1: Combine features into a single feature vector using VectorAssembler\n",
    "assembler = VectorAssembler(inputCols=feature_columns, outputCol=\"features\")\n",
    "df_transformed = assembler.transform(veteran_data)\n",
    "\n",
    "\n",
    "# Split the data into train/test sets\n",
    "train_data, test_data = df_transformed.randomSplit([0.7, 0.3], seed=42)\n",
    "\n",
    "models = {}\n",
    "predictions = {}\n",
    "for target in target_columns:\n",
    "    lr = LinearRegression(featuresCol=\"features\", labelCol=target, maxIter=10)\n",
    "    model = lr.fit(train_data)\n",
    "    models[target] = model  # Store the trained model\n",
    "    \n",
    "    # Make predictions on test data\n",
    "    pred = model.transform(test_data)\n",
    "    predictions[target] = pred\n",
    "    \n",
    "    # Step 4: Evaluate the model\n",
    "    evaluator = RegressionEvaluator(labelCol=target, predictionCol=\"prediction\", metricName=\"rmse\")\n",
    "    rmse = evaluator.evaluate(pred)\n",
    "    print(f\"Root Mean Squared Error (RMSE) for {target}: {rmse}\")\n",
    "    \n",
    "    evaluator_r2 = RegressionEvaluator(labelCol=target, predictionCol=\"prediction\", metricName=\"r2\")\n",
    "    r2 = evaluator_r2.evaluate(pred)\n",
    "    print(f\"R-squared for {target}: {r2}\")\n",
    "\n"
   ]
  },
  {
   "cell_type": "code",
   "execution_count": 17,
   "metadata": {},
   "outputs": [],
   "source": [
    "predict_data = veteran_data.filter(veteran_data['Season'] == '2023-2024')"
   ]
  },
  {
   "cell_type": "code",
   "execution_count": 18,
   "metadata": {},
   "outputs": [],
   "source": [
    "from pyspark.sql import functions as F\n",
    "from pyspark.sql.window import Window\n",
    "\n",
    "# Create the DataFrame (df) for demonstration\n",
    "# Assuming df is the DataFrame you are working on\n",
    "\n",
    "# Add 1 year to the 'Season' column and 1 to 'Age' column\n",
    "predict_data = predict_data.withColumn(\"Season\", F.concat(F.expr(\"substring(Season, 1, 4) + 1\"), F.lit(\"-\"), F.expr(\"substring(Season, 6, 9) + 1\"))) \\\n",
    "       .withColumn(\"Age\", F.col(\"Age\") + 1)\n",
    "\n",
    "\n",
    "\n",
    "# Move the previous percent changes to Percent_Change_2 columns\n",
    "predict_data = predict_data.withColumn(\"G_Percent_Change_2\", F.col(\"G_Percent_Change_1\")) \\\n",
    "       .withColumn(\"MP_Percent_Change_2\", F.col(\"MP_Percent_Change_1\")) \\\n",
    "       .withColumn(\"3P%_Percent_Change_2\", F.col(\"3P%_Percent_Change_1\")) \\\n",
    "       .withColumn(\"TRB_Percent_Change_2\", F.col(\"TRB_Percent_Change_1\")) \\\n",
    "       .withColumn(\"FG%_Percent_Change_2\", F.col(\"FG%_Percent_Change_1\")) \\\n",
    "       .withColumn(\"FT%_Percent_Change_2\", F.col(\"FT%_Percent_Change_1\")) \\\n",
    "       .withColumn(\"AST_Percent_Change_2\", F.col(\"AST_Percent_Change_1\")) \\\n",
    "       .withColumn(\"STL_Percent_Change_2\", F.col(\"STL_Percent_Change_1\")) \\\n",
    "       .withColumn(\"BLK_Percent_Change_2\", F.col(\"BLK_Percent_Change_1\")) \\\n",
    "       .withColumn(\"TOV_Percent_Change_2\", F.col(\"TOV_Percent_Change_1\")) \\\n",
    "       .withColumn(\"PTS_Percent_Change_2\", F.col(\"PTS_Percent_Change_1\")) \\\n",
    "       .withColumn(\"WS_Percent_Change_2\", F.col(\"WS_Percent_Change_1\")) \\\n",
    "       .withColumn(\"WS/48_Percent_Change_2\", F.col(\"WS/48_Percent_Change_1\"))\n",
    "\n",
    "# Calculate the percent change for each column and add to the new columns\n",
    "predict_data = predict_data.withColumn(\"G_Percent_Change_1\", ((F.col(\"G\") - F.col(\"Prev_G_1\")) / F.col(\"Prev_G_1\")) * 100) \\\n",
    "       .withColumn(\"MP_Percent_Change_1\", ((F.col(\"MP\") - F.col(\"Prev_MP_1\")) / F.col(\"Prev_MP_1\")) * 100) \\\n",
    "       .withColumn(\"3P%_Percent_Change_1\", ((F.col(\"3P_Ptg\") - F.col(\"Prev_3P%_1\")) / F.col(\"Prev_3P%_1\")) * 100) \\\n",
    "       .withColumn(\"TRB_Percent_Change_1\", ((F.col(\"TRB\") - F.col(\"Prev_TRB_1\")) / F.col(\"Prev_TRB_1\")) * 100) \\\n",
    "       .withColumn(\"FG%_Percent_Change_1\", ((F.col(\"FG%\") - F.col(\"Prev_FG%_1\")) / F.col(\"Prev_FG%_1\")) * 100) \\\n",
    "       .withColumn(\"FT%_Percent_Change_1\", ((F.col(\"FT%\") - F.col(\"Prev_FT%_1\")) / F.col(\"Prev_FT%_1\")) * 100) \\\n",
    "       .withColumn(\"AST_Percent_Change_1\", ((F.col(\"AST\") - F.col(\"Prev_AST_1\")) / F.col(\"Prev_AST_1\")) * 100) \\\n",
    "       .withColumn(\"STL_Percent_Change_1\", ((F.col(\"STL\") - F.col(\"Prev_STL_1\")) / F.col(\"Prev_STL_1\")) * 100) \\\n",
    "       .withColumn(\"BLK_Percent_Change_1\", ((F.col(\"BLK\") - F.col(\"Prev_BLK_1\")) / F.col(\"Prev_BLK_1\")) * 100) \\\n",
    "       .withColumn(\"TOV_Percent_Change_1\", ((F.col(\"TOV\") - F.col(\"Prev_TOV_1\")) / F.col(\"Prev_TOV_1\")) * 100) \\\n",
    "       .withColumn(\"PTS_Percent_Change_1\", ((F.col(\"PTS\") - F.col(\"Prev_PTS_1\")) / F.col(\"Prev_PTS_1\")) * 100) \\\n",
    "       .withColumn(\"WS_Percent_Change_1\", ((F.col(\"WS\") - F.col(\"Prev_WS_1\")) / F.col(\"Prev_WS_1\")) * 100) \\\n",
    "       .withColumn(\"WS/48_Percent_Change_1\", ((F.col(\"WS/48\") - F.col(\"Prev_WS/48_1\")) / F.col(\"Prev_WS/48_1\")) * 100)\n",
    "\n",
    "# Create new columns for the previous stats (Prev_ columns)\n",
    "predict_data = predict_data.withColumn(\"Prev_G_1\", F.col(\"G\")) \\\n",
    "       .withColumn(\"Prev_MP_1\", F.col(\"MP\")) \\\n",
    "       .withColumn(\"Prev_3P%_1\", F.col(\"3P_Ptg\")) \\\n",
    "       .withColumn(\"Prev_TRB_1\", F.col(\"TRB\")) \\\n",
    "       .withColumn(\"Prev_FG%_1\", F.col(\"FG%\")) \\\n",
    "       .withColumn(\"Prev_FT%_1\", F.col(\"FT%\")) \\\n",
    "       .withColumn(\"Prev_AST_1\", F.col(\"AST\")) \\\n",
    "       .withColumn(\"Prev_STL_1\", F.col(\"STL\")) \\\n",
    "       .withColumn(\"Prev_BLK_1\", F.col(\"BLK\")) \\\n",
    "       .withColumn(\"Prev_TOV_1\", F.col(\"TOV\")) \\\n",
    "       .withColumn(\"Prev_PTS_1\", F.col(\"PTS\")) \\\n",
    "       .withColumn(\"Prev_WS_1\", F.col(\"WS\")) \\\n",
    "       .withColumn(\"Prev_WS/48_1\", F.col(\"WS/48\"))\n",
    "\n",
    "\n",
    "predict_data = predict_data.withColumn(\"Season_Rank\", F.col(\"Season_Rank\") + 1) \\\n",
    "                .withColumn(\"Total_Seasons_Played\", F.col(\"Total_Seasons_Played\") + 1)\n",
    "\n",
    "predict_data = predict_data.drop(\"G\", \"MP\", \"3P_Ptg\", \"TRB\", \"FG%\", \"FT%\", \"AST\", \"STL\", \"BLK\", \"TOV\", \"PTS\", \"WS\", \"WS/48\")"
   ]
  },
  {
   "cell_type": "code",
   "execution_count": 19,
   "metadata": {},
   "outputs": [
    {
     "name": "stdout",
     "output_type": "stream",
     "text": [
      "+----------------+-------------+--------------------+----+--------------------+-----------+-------------+--------+---------+----------+----------+----------+----------+----------+----------+----------+----------+----------+---------+------------+--------+---------+----------+----------+----------+----------+----------+----------+----------+----------+----------+---------+------------+--------+---------+----------+----------+----------+----------+----------+----------+----------+----------+----------+---------+------------+-------------------+-------------------+--------------------+--------------------+--------------------+--------------------+--------------------+--------------------+--------------------+--------------------+--------------------+-------------------+----------------------+-------------------+-------------------+--------------------+--------------------+--------------------+--------------------+--------------------+--------------------+--------------------+--------------------+--------------------+-------------------+----------------------+\n",
      "|Player Reference|       Season|              Player| Age|Total_Seasons_Played|Season_Rank|Active_Player|Prev_G_1|Prev_MP_1|Prev_3P%_1|Prev_TRB_1|Prev_FG%_1|Prev_FT%_1|Prev_AST_1|Prev_STL_1|Prev_BLK_1|Prev_TOV_1|Prev_PTS_1|Prev_WS_1|Prev_WS/48_1|Prev_G_2|Prev_MP_2|Prev_3P%_2|Prev_TRB_2|Prev_FG%_2|Prev_FT%_2|Prev_AST_2|Prev_STL_2|Prev_BLK_2|Prev_TOV_2|Prev_PTS_2|Prev_WS_2|Prev_WS/48_2|Prev_G_3|Prev_MP_3|Prev_3P%_3|Prev_TRB_3|Prev_FG%_3|Prev_FT%_3|Prev_AST_3|Prev_STL_3|Prev_BLK_3|Prev_TOV_3|Prev_PTS_3|Prev_WS_3|Prev_WS/48_3| G_Percent_Change_1|MP_Percent_Change_1|3P%_Percent_Change_1|TRB_Percent_Change_1|FG%_Percent_Change_1|FT%_Percent_Change_1|AST_Percent_Change_1|STL_Percent_Change_1|BLK_Percent_Change_1|TOV_Percent_Change_1|PTS_Percent_Change_1|WS_Percent_Change_1|WS/48_Percent_Change_1| G_Percent_Change_2|MP_Percent_Change_2|3P%_Percent_Change_2|TRB_Percent_Change_2|FG%_Percent_Change_2|FT%_Percent_Change_2|AST_Percent_Change_2|STL_Percent_Change_2|BLK_Percent_Change_2|TOV_Percent_Change_2|PTS_Percent_Change_2|WS_Percent_Change_2|WS/48_Percent_Change_2|\n",
      "+----------------+-------------+--------------------+----+--------------------+-----------+-------------+--------+---------+----------+----------+----------+----------+----------+----------+----------+----------+----------+---------+------------+--------+---------+----------+----------+----------+----------+----------+----------+----------+----------+----------+---------+------------+--------+---------+----------+----------+----------+----------+----------+----------+----------+----------+----------+---------+------------+-------------------+-------------------+--------------------+--------------------+--------------------+--------------------+--------------------+--------------------+--------------------+--------------------+--------------------+-------------------+----------------------+-------------------+-------------------+--------------------+--------------------+--------------------+--------------------+--------------------+--------------------+--------------------+--------------------+--------------------+-------------------+----------------------+\n",
      "|       gilgesh01|2024.0-2025.0|Shai Gilgeous-Ale...|26.0|                   7|          7|            1|      58|     34.4|     0.392|       5.6|     0.548|     0.882|       6.5|       2.1|       0.9|       2.1|      31.2|     12.5|         0.3|      56|     34.7|       0.3|       5.0|     0.453|      0.81|       5.9|       1.3|       0.8|       2.8|      24.5|      4.6|       0.113|      35|     33.7|     0.418|       4.7|     0.508|     0.808|       5.9|       0.8|       0.7|       3.0|      23.7|      3.5|       0.143|-14.705882352941178|-3.0985915492957785|  13.623188405797116|  16.666666666666664|    7.45098039215687|    -2.5414364640884|  18.181818181818183|               31.25|  -9.999999999999998| -24.999999999999993| -0.6369426751592334|  9.649122807017541|      32.7433628318584| 21.428571428571427|  2.305475504322758|  14.999999999999996| -4.0000000000000036|   12.58278145695364|  11.728395061728392| -6.7796610169491585|  23.076923076923077|  24.999999999999993|                 0.0|  28.163265306122444| 147.82608695652178|                 100.0|\n",
      "|       thompkl01|2024.0-2025.0|       Klay Thompson|34.0|                  12|         12|            1|      55|     30.2|     0.377|       3.5|      0.42|     0.922|       2.2|       0.5|       0.5|       1.5|      17.2|      2.0|       0.058|      32|     29.4|     0.385|       3.9|     0.429|     0.902|       2.8|       0.5|       0.5|       1.3|      20.4|      1.8|       0.091|      78|     34.0|     0.402|       3.8|     0.467|     0.816|       2.4|       1.1|       0.6|       1.5|      21.5|      5.3|       0.095| -20.28985507246377| -8.484848484848486|  -8.495145631067956| -14.634146341463408| -3.6697247706422047|  4.8919226393629165|  -8.333333333333323| -28.571428571428566|  24.999999999999993| -16.666666666666668| -21.461187214611872|-35.483870967741936|   -12.121212121212121|            115.625| 12.244897959183678|   7.012987012987004|  5.1282051282051215|  1.6317016317016333|  -2.549889135254991| -14.285714285714283|   39.99999999999999| -19.999999999999996|   38.46153846153846|   7.352941176470589|  72.22222222222221|    -27.47252747252747|\n",
      "|       olynyke01|2024.0-2025.0|        Kelly Olynyk|33.0|                  12|         12|            1|      57|     20.2|     0.408|       4.9|      0.55|     0.847|       4.2|       0.8|       0.3|       1.6|       8.3|      3.6|       0.149|      40|     19.1|     0.336|       4.4|     0.448|     0.775|       2.8|       0.8|       0.5|       1.5|       9.1|      1.6|       0.104|      70|     28.5|     0.342|       7.0|     0.484|     0.829|       2.9|       1.1|       0.6|       1.8|      13.5|      5.1|       0.121|-16.176470588235293|-29.370629370629374|   3.553299492385776| -20.967741935483865|  10.220440881763535| -0.7033997655334121|  13.513513513513512| -11.111111111111107|               -40.0|               -36.0| -33.599999999999994|-16.279069767441857|     40.56603773584905|               70.0| 49.738219895287955|   17.26190476190476|    40.9090909090909|  11.383928571428568|  10.064516129032253|   32.14285714285715|  12.499999999999996|                 0.0|   66.66666666666666|   37.36263736263737| 168.74999999999997|     1.923076923076925|\n",
      "|       willizi01|2024.0-2025.0|     Zion Williamson|24.0|                   5|          5|            1|      49|     30.8|     0.385|       5.5|     0.576|     0.687|       5.1|       0.9|       0.5|       2.6|      22.4|      5.1|       0.163|      61|     33.2|     0.294|       7.2|     0.611|     0.698|       3.7|       0.9|       0.6|       2.7|      27.0|      8.7|       0.205|      24|     27.8|     0.429|       6.3|     0.583|      0.64|       2.1|       0.7|       0.4|       2.5|      22.5|      2.0|       0.141|  68.96551724137932| -6.666666666666665|   4.619565217391308| -21.428571428571427|  -5.263157894736847| -3.7815126050420047|  10.869565217391305| -18.181818181818183| -16.666666666666664| -23.529411764705877| -13.846153846153852|  41.66666666666665|    -9.444444444444438|-52.459016393442624|-0.6024096385542254|   25.17006802721089|   -2.77777777777778| -0.4909983633387893|  2.2922636103151888|   24.32432432432431|   22.22222222222223|                 0.0|  25.925925925925913| -3.7037037037037033| -58.62068965517242|    -12.19512195121951|\n",
      "|       highsha01|2024.0-2025.0|   Haywood Highsmith|28.0|                   5|          5|            1|      43|     21.0|     0.378|       2.9|     0.437|     0.808|       1.0|       1.0|       0.5|       0.6|       6.0|      1.7|       0.092|      19|      8.6|     0.321|       1.4|     0.348|       0.4|       0.3|       0.1|       0.2|       0.2|       2.3|      0.1|       0.041|       5|      8.0|       0.2|       1.0|       0.4|       0.0|       0.4|       0.2|       0.0|       0.2|       1.8|      0.0|      -0.023| -20.37037037037037| 17.318435754189952|  11.504424778761054| -17.142857142857146|  1.3921113689095141|   74.13793103448276|  24.999999999999993|   42.85714285714287|   66.66666666666667| -25.000000000000007|   36.36363636363635|  88.88888888888889|                 100.0| 184.21052631578948| 108.13953488372093|   5.607476635514024|  150.00000000000003|  23.850574712643684|                16.0|  166.66666666666669|   599.9999999999999|  49.999999999999986|  300.00000000000006|   91.30434782608698|              800.0|    12.195121951219505|\n",
      "|       siakapa01|2024.0-2025.0|       Pascal Siakam|30.0|                   9|          9|            1|      58|     34.2|      0.34|       6.6|     0.534|     0.736|       4.8|       0.8|       0.3|       1.9|      21.9|      5.1|       0.123|      68|     37.9|     0.344|       8.5|     0.494|     0.749|       5.3|       1.3|       0.6|       2.7|      22.8|      8.1|       0.151|      56|     35.8|     0.297|       7.2|     0.455|     0.827|       4.5|       1.1|       0.7|       2.3|      21.4|      4.2|       0.101| -18.30985915492958| -8.556149732620309|   4.938271604938276| -15.384615384615389|   11.25000000000001| -4.9095607235142165|  -17.24137931034483| -11.111111111111107|               -40.0| -20.833333333333336|  -9.504132231404961| -34.61538461538462|   -12.765957446808503|  4.411764705882353|-1.3192612137203166|  -5.813953488372083|  -8.235294117647062| -2.8340080971659942|  3.3377837116154905|   9.433962264150944|  -30.76923076923077| -16.666666666666664|  -11.11111111111112|   6.140350877192976|-3.7037037037037015|    -6.622516556291397|\n",
      "|       murrade01|2024.0-2025.0|     Dejounte Murray|28.0|                   8|          8|            1|      56|     35.0|     0.357|       5.3|     0.467|     0.818|       5.6|       1.3|       0.3|       2.3|      21.6|      3.3|        0.08|      68|     34.8|     0.327|       8.3|     0.462|     0.794|       9.2|       2.0|       0.3|       2.6|      21.1|      7.3|       0.149|      67|     31.9|     0.317|       7.1|     0.453|     0.791|       5.4|       1.5|       0.1|       1.7|      15.7|      3.3|       0.074|-24.324324324324326|-3.8461538461538423|  3.7790697674418645|                 0.0|  0.6465517241379315| -1.6826923076923093|  -8.196721311475411|  -13.33333333333333|                 0.0|   4.545454545454529|   5.365853658536592|-29.787234042553195|    -4.761904761904765|  8.823529411764707|  4.597701149425292|   5.198776758409773|  -36.14457831325302| 0.43290043290043323|   4.785894206549108|  -33.69565217391305|               -25.0|                 0.0|  -15.38461538461538| -2.8436018957346034| -35.61643835616438|     -43.6241610738255|\n",
      "|       batumni01|2024.0-2025.0|       Nicolas Batum|36.0|                  17|         17|            1|      38|     23.7|     0.448|       3.6|     0.507|     0.643|       2.1|       0.7|       0.7|       0.6|       5.3|      2.2|       0.117|      59|     24.8|       0.4|       4.3|     0.463|     0.658|       1.7|       1.0|       0.7|       0.7|       8.3|      3.7|       0.123|      67|     27.4|     0.404|       4.7|     0.464|     0.828|       2.2|       1.0|       0.6|       0.8|       8.1|      5.0|       0.132| -51.28205128205128|  8.219178082191785|  14.578005115089512|  -5.263157894736835|  20.714285714285722|   -9.18079096045197|               31.25|                 0.0|  16.666666666666664|                 0.0| -13.114754098360654|-38.888888888888886|    15.841584158415841|  32.20338983050847|-11.693548387096781| -2.2500000000000018| -11.627906976744185|  -9.287257019438453|   7.598784194528865|  -5.882352941176463| -30.000000000000004| -14.285714285714283| -14.285714285714283| -26.506024096385556| -2.702702702702705|    -17.88617886178861|\n",
      "|        loveke01|2024.0-2025.0|          Kevin Love|36.0|                  17|         17|            1|      47|     17.5|     0.349|       6.2|     0.443|     0.779|       2.2|       0.3|       0.2|       0.8|       9.0|      3.1|       0.179|      74|     22.5|     0.392|       7.2|      0.43|     0.838|       2.2|       0.4|       0.2|       1.3|      13.6|      5.7|       0.164|      25|     24.9|     0.365|       7.4|     0.409|     0.824|       2.5|       0.6|       0.1|       1.5|      12.2|      0.9|       0.073|-24.193548387096776|              -12.5|   4.491017964071843| -3.1250000000000027|  13.881748071979432| -11.376564277588166|  15.789473684210542|                 0.0|                 0.0| -27.272727272727277|    9.75609756097562|  19.23076923076923|      80.8080808080808|-16.216216216216218| -11.11111111111111| -14.795918367346939| -11.111111111111107|  -9.534883720930228|  4.8926014319809115| -13.636363636363647| -25.000000000000007|                 0.0|  -15.38461538461538|  -39.70588235294118|-54.385964912280706|    -39.63414634146341|\n",
      "|        monkma01|2024.0-2025.0|          Malik Monk|26.0|                   8|          8|            1|      57|     25.8|     0.368|       2.8|     0.447|     0.811|       5.2|       0.6|       0.6|       2.1|      15.0|      2.6|       0.086|      76|     28.1|     0.391|       3.4|     0.473|     0.795|       2.9|       0.8|       0.4|       1.6|      13.8|      3.6|       0.081|      42|     20.9|     0.401|       2.4|     0.434|     0.819|       2.1|       0.5|       0.1|       1.3|      11.7|      1.0|       0.054| -25.97402597402597|  15.69506726457399|   2.506963788300838|   7.692307692307682|-0.22321428571428592|  -8.773903262092233|   33.33333333333334|                 0.0|               100.0|  10.526315789473696|   11.11111111111111|-18.750000000000004|    -5.494505494505499| 1.3157894736842104|-20.640569395017792|  -8.184143222506401| -23.529411764705877|  -5.285412262156441|  11.823899371069178|   34.48275862068966| -25.000000000000007| -25.000000000000007|   18.74999999999999|  -2.173913043478266|-11.111111111111107|    12.345679012345673|\n",
      "|       lopezbr01|2024.0-2025.0|         Brook Lopez|36.0|                  17|         17|            1|      57|     31.2|     0.342|       5.4|     0.479|     0.842|       1.7|       0.6|       2.7|       0.9|      12.8|      4.4|        0.12|      13|     22.9|     0.358|       4.1|     0.466|      0.87|       0.5|       0.6|       1.2|       0.9|      12.4|      0.7|       0.108|      70|     27.2|     0.338|       5.0|     0.503|     0.845|       0.7|       0.6|       1.5|       0.9|      12.3|      5.3|       0.133|-26.923076923076923|  2.631578947368424|  -8.556149732620314| -19.402985074626862|  -9.792843691148784|   7.397959183673461|   30.76923076923076|  19.999999999999996|   8.000000000000007|  -35.71428571428571|  -19.49685534591195| -44.99999999999999|   -25.465838509316775|              500.0|  32.75109170305677|   4.469273743016764|  63.414634146341484|  13.948497854077251|  -9.885057471264364|               160.0| -16.666666666666664|  108.33333333333334|   55.55555555555555|    28.2258064516129|  1042.857142857143|     49.07407407407408|\n",
      "|       paytoga02|2024.0-2025.0|      Gary Payton II|32.0|                   9|          9|            1|      24|     15.5|     0.342|       2.9|     0.522|     0.692|       1.0|       1.1|       0.4|       0.5|       5.8|      1.0|       0.129|      71|     17.6|     0.358|       3.5|     0.616|     0.603|       0.9|       1.4|       0.3|       0.6|       7.1|      5.2|       0.199|      10|      4.0|       0.5|       1.1|     0.769|      0.75|       0.1|       0.6|       0.1|       0.1|       2.5|      0.3|       0.331|  9.090909090909092| -7.185628742514965| -31.599999999999994|  -6.451612903225811| -12.121212121212114| -19.253208868144693| -28.571428571428566|  10.000000000000009|               100.0| -28.571428571428566|  26.086956521739136|                0.0|     3.200000000000003| -69.01408450704226| -5.113636363636375|  39.664804469273754| -11.428571428571425| -3.5714285714285747|   42.12271973466004|   55.55555555555555| -28.571428571428566|  -33.33333333333333|  16.666666666666664|  -35.21126760563381| -80.76923076923077|    -37.18592964824121|\n",
      "|       saricda01|2024.0-2025.0|         Dario Šarić|30.0|                   8|          8|            1|      56|     18.6|     0.384|       4.9|     0.465|     0.864|       2.4|       0.5|       0.2|       1.3|       8.8|      2.8|       0.129|      50|     17.4|     0.348|       3.8|     0.447|     0.848|       1.3|       0.6|       0.1|       1.1|       8.7|      1.7|       0.093|      66|     24.7|     0.357|       6.2|     0.476|     0.844|       1.9|       0.6|       0.2|       1.3|      10.7|      3.6|       0.105|-1.7543859649122806|  31.91489361702129| -1.7902813299232754|  36.111111111111114|  1.5283842794759839|   4.221954161640535|    84.6153846153846|  24.999999999999993|               100.0|  30.000000000000004|   37.50000000000001|  64.70588235294117|    30.303030303030297| 14.000000000000002|-18.965517241379306|   12.35632183908047|  -5.263157894736835|  2.4608501118568253|  -2.240566037735851|                 0.0|  -33.33333333333333|                 0.0|  -9.090909090909099| -26.436781609195393|                0.0|     6.451612903225811|\n",
      "|       maxeyty01|2024.0-2025.0|        Tyrese Maxey|24.0|                   5|          5|            1|      53|     37.3|     0.377|       3.7|     0.449|     0.865|       6.4|       1.0|       0.5|       1.7|      25.9|      6.1|       0.147|      75|     35.3|     0.427|       3.2|     0.485|     0.866|       4.3|       0.7|       0.4|       1.2|      17.5|      7.3|       0.132|      61|     15.3|     0.301|       1.7|     0.462|     0.871|       2.0|       0.4|       0.2|       0.7|       8.0|      1.9|       0.099|-11.666666666666666| 11.011904761904749|  -13.13364055299539|  27.586206896551737|  -6.652806652806648|  2.3668639053254457|   82.85714285714286|  24.999999999999993|               400.0|   30.76923076923076|   27.58620689655171| 12.962962962962948|    14.843749999999991|              -20.0| -4.815864022662878|  1.6393442622950833|  -9.375000000000009| -0.8247422680412378|  -2.424942263279448| -18.604651162790695|  14.285714285714299|  -75.00000000000001|   8.333333333333341|  16.000000000000004|-26.027397260273965|    -3.030303030303033|\n",
      "|       theisda01|2024.0-2025.0|        Daniel Theis|32.0|                   8|          8|            1|      42|     17.0|     0.386|       3.7|     0.534|     0.721|       1.0|       0.4|       0.9|       0.7|       6.3|      1.8|       0.123|      47|     20.8|     0.308|       4.9|     0.519|     0.681|       0.9|       0.4|       0.7|       1.0|       8.2|      1.9|       0.093|      65|     24.6|     0.322|       5.5|     0.541|     0.673|       1.7|       0.6|       0.9|       1.0|       9.6|      4.3|       0.128|              500.0|  8.974358974358978|  112.08791208791209|   19.35483870967742|  11.949685534591206|   72.90167865707434| -23.076923076923077|   33.33333333333335|                 0.0|   74.99999999999997| -10.000000000000002|             1700.0|     167.3913043478261|  -85.1063829787234|-25.000000000000007| -40.909090909090914| -36.734693877551024|  -8.092485549132956| -38.766519823788556|   44.44444444444445| -25.000000000000007|   28.57142857142858|               -60.0| -14.634146341463408| -94.73684210526315|    -50.53763440860215|\n",
      "|       forretr01|2024.0-2025.0|       Trent Forrest|26.0|                   5|          5|            1|      21|     10.3|     0.286|       1.2|     0.313|       0.8|       2.0|       0.3|       0.0|       0.5|       1.9|      0.0|      -0.008|      60|     12.8|     0.185|       1.7|      0.49|     0.792|       1.8|       0.5|       0.1|       0.8|       3.3|      1.3|       0.084|      30|     10.1|     0.192|       1.5|     0.451|       1.0|       1.5|       0.3|       0.1|       0.7|       2.9|      0.7|       0.106| -8.695652173913043| -14.16666666666666|                null| -25.000000000000007| -24.940047961630693|  19.940029985007495|  17.647058823529417|                 0.0|              -100.0| -28.571428571428566| -17.391304347826082|             -100.0|   -27.272727272727266| -61.66666666666667| -6.250000000000005|              -100.0|  -5.882352941176463| -14.897959183673471| -15.782828282828282|   -5.55555555555556|               -40.0|                 0.0|  -12.50000000000001| -30.303030303030305|-107.69230769230771|   -113.09523809523809|\n",
      "|       antetgi01|2024.0-2025.0|Giannis Antetokou...|30.0|                  12|         12|            1|      58|     34.9|      0.29|      11.2|     0.617|     0.658|       6.3|       1.3|       1.0|       3.4|      30.6|     10.5|       0.249|      67|     32.9|     0.293|      11.6|     0.553|     0.722|       5.8|       1.1|       1.4|       3.3|      29.9|     12.9|       0.281|      61|     33.0|     0.303|      11.0|     0.569|     0.685|       5.9|       1.2|       1.2|       3.4|      28.1|     10.2|       0.244| -7.936507936507936|  8.722741433021799|   5.454545454545439|  -5.084745762711876|  11.573236889692575|   2.015503875968994|  10.526315789473678|                62.5|  24.999999999999993| -12.820512820512823|  -1.607717041800643|  22.09302325581396|     22.05882352941177| -5.970149253731343|-2.4316109422492316| -6.1433447098975975|  1.7241379310344922|                 0.0| -10.664819944598332| -1.7241379310344769| -27.272727272727277|  -42.85714285714285|  18.181818181818183|   4.013377926421414|-33.333333333333336|   -27.402135231316738|\n",
      "|       payneca01|2024.0-2025.0|       Cameron Payne|30.0|                  10|         10|            1|      55|     15.6|     0.392|       1.3|     0.447|     0.852|       2.4|       0.5|       0.1|       0.7|       6.8|      1.8|       0.102|      58|     22.0|     0.336|       3.0|     0.409|     0.843|       4.9|       0.7|       0.3|       1.8|      10.8|      1.9|       0.073|      60|     18.0|      0.44|       2.4|     0.484|     0.893|       3.6|       0.6|       0.3|       1.0|       8.4|      3.6|       0.158| 14.583333333333334| -22.77227722772277|   6.521739130434788| -40.909090909090914|   7.710843373493984|  11.227154046997384| -46.666666666666664| -28.571428571428566|               -50.0|  -58.82352941176471|  -33.98058252427185| 63.636363636363626|     92.45283018867923| -17.24137931034483| -8.181818181818185|   9.523809523809515|  -26.66666666666666|  1.4669926650366762|   -9.13404507710557|  -8.163265306122454|                 0.0|  -33.33333333333333|   -5.55555555555556|   -4.62962962962963|-42.105263157894726|   -27.397260273972602|\n",
      "|       bouchch01|2024.0-2025.0|       Chris Boucher|32.0|                   8|          8|            1|      47|     13.7|     0.322|       4.0|      0.49|     0.753|       0.4|       0.3|       0.4|       0.5|       6.2|      1.6|       0.121|      80|     21.1|     0.297|       6.2|     0.464|     0.777|       0.3|       0.6|       0.9|       0.5|       9.4|      6.0|       0.169|      60|     24.2|     0.383|       6.7|     0.514|     0.788|       1.1|       0.6|       1.9|       0.8|      13.6|      6.1|       0.201| -38.15789473684211|-31.500000000000007| -1.8292682926829285|  -27.27272727272727| -0.6085192697768768| -1.1811023622047254|                 0.0|               -50.0|               -50.0|                 0.0|  -34.04255319148936|              -68.0|   -22.435897435897438|               -5.0| -5.213270142180101|  10.437710437710447| -11.290322580645164|   6.249999999999993| -1.9305019305019322|   33.33333333333335|                 0.0| -11.111111111111107|                 0.0|                 0.0|-16.666666666666664|    -7.692307692307699|\n",
      "|       okorois01|2024.0-2025.0|         Isaac Okoro|24.0|                   5|          5|            1|      49|     26.1|     0.401|       3.0|     0.502|      0.69|       2.0|       0.8|       0.5|       0.8|       9.2|      3.4|       0.128|      67|     29.6|      0.35|       3.0|      0.48|     0.768|       1.8|       0.8|       0.3|       0.9|       8.8|      4.2|       0.103|      67|     32.4|      0.29|       3.1|      0.42|     0.726|       1.9|       0.9|       0.4|       1.3|       9.6|      0.9|        0.02|-35.526315789473685| 20.276497695852544|   10.46831955922866|                20.0|  1.6194331983805683|  -8.850726552179665|    81.8181818181818|  14.285714285714299|  24.999999999999993|   33.33333333333335|  43.749999999999986| -19.04761904761905|    4.9180327868852505| 13.432835820895523|-26.689189189189193|   3.714285714285718| -16.666666666666664|  2.9166666666666696| -1.4322916666666679| -38.888888888888886|  -12.50000000000001|   33.33333333333335| -33.333333333333336| -27.272727272727277|                0.0|    18.446601941747577|\n",
      "+----------------+-------------+--------------------+----+--------------------+-----------+-------------+--------+---------+----------+----------+----------+----------+----------+----------+----------+----------+----------+---------+------------+--------+---------+----------+----------+----------+----------+----------+----------+----------+----------+----------+---------+------------+--------+---------+----------+----------+----------+----------+----------+----------+----------+----------+----------+---------+------------+-------------------+-------------------+--------------------+--------------------+--------------------+--------------------+--------------------+--------------------+--------------------+--------------------+--------------------+-------------------+----------------------+-------------------+-------------------+--------------------+--------------------+--------------------+--------------------+--------------------+--------------------+--------------------+--------------------+--------------------+-------------------+----------------------+\n",
      "only showing top 20 rows\n",
      "\n"
     ]
    }
   ],
   "source": [
    "#Result\n",
    "predict_data.show(20)"
   ]
  },
  {
   "cell_type": "code",
   "execution_count": 20,
   "metadata": {},
   "outputs": [],
   "source": [
    "# Assuming new_data is the new dataset you want to predict on\n",
    "\n",
    "# Dictionary to store predictions on the new data\n",
    "\n",
    "feature_columns = [\n",
    "    \"Prev_G_1\", \"Prev_MP_1\", \"Prev_3P%_1\", \"Prev_TRB_1\", \"Prev_FG%_1\", \"Prev_FT%_1\", \"Prev_AST_1\", \"Prev_STL_1\", \"Prev_BLK_1\", \"Prev_TOV_1\", \"Prev_PTS_1\", \n",
    "    \"Prev_WS_1\", \"Prev_WS/48_1\",\n",
    "    # 新增變化百分比特徵  \n",
    "    # 前年與三年前的變化\n",
    "    \"G_Percent_Change_2\", \"MP_Percent_Change_2\", \"3P%_Percent_Change_2\", \"TRB_Percent_Change_2\", \"FG%_Percent_Change_2\", \n",
    "    \"FT%_Percent_Change_2\", \"AST_Percent_Change_2\", \"STL_Percent_Change_2\", \"BLK_Percent_Change_2\", \"TOV_Percent_Change_2\", \"PTS_Percent_Change_2\", \n",
    "    \"WS_Percent_Change_2\", \"WS/48_Percent_Change_2\",\n",
    "    # 去年與前年的變化\n",
    "    \"G_Percent_Change_1\", \"MP_Percent_Change_1\", \"3P%_Percent_Change_1\", \"TRB_Percent_Change_1\", \"FG%_Percent_Change_1\", \n",
    "    \"FT%_Percent_Change_1\", \"AST_Percent_Change_1\", \"STL_Percent_Change_1\", \"BLK_Percent_Change_1\", \"TOV_Percent_Change_1\", \"PTS_Percent_Change_1\", \n",
    "    \"WS_Percent_Change_1\", \"WS/48_Percent_Change_1\"\n",
    "]\n",
    "\n",
    "\n",
    "new_data_predictions = {}\n",
    "\n",
    "target_columns = ['G', 'MP', '3P_Ptg', 'TRB', 'FG%', 'FT%', 'AST', 'STL', 'BLK', 'TOV', 'PTS', 'WS', 'WS/48']\n",
    "\n",
    "assembler = VectorAssembler(inputCols=feature_columns, outputCol=\"features\", handleInvalid=\"skip\")\n",
    "df_transformed = assembler.transform(predict_data)\n",
    "\n",
    "for target in target_columns:\n",
    "    # Get the trained model for this target\n",
    "    rf_model = rf_models[target]\n",
    "    \n",
    "    # Make predictions on the new data\n",
    "    new_rf_pred = rf_model.transform(df_transformed)\n",
    "    \n",
    "    # Select relevant columns for storing predictions (including prediction column and some original columns)\n",
    "    new_data_predictions[target] = new_rf_pred.select(\"prediction\", \"Player Reference\")\n",
    "    \n",
    "    # Optionally: show the top 5 rows of predictions\n",
    "    #print(f\"Predictions for {target}:\")\n",
    "    #new_data_predictions[target].show(5)\n",
    "    "
   ]
  },
  {
   "cell_type": "code",
   "execution_count": 25,
   "metadata": {},
   "outputs": [
    {
     "data": {
      "text/plain": [
       "236"
      ]
     },
     "execution_count": 25,
     "metadata": {},
     "output_type": "execute_result"
    }
   ],
   "source": [
    "final_df = predict_data.select(\"Player Reference\", \"Season\", \"Player\",\"Age\")\n",
    "final_df = final_df.join(new_data_predictions['G'].select('Player Reference'), on='Player Reference', how='inner')\n",
    "final_df.count()"
   ]
  },
  {
   "cell_type": "code",
   "execution_count": 26,
   "metadata": {},
   "outputs": [],
   "source": [
    "# Show the final DataFrame with all predictions combined\n",
    "\n",
    "\n",
    "for target in target_columns:\n",
    "    # Get the predictions DataFrame for this target\n",
    "    pred_df = new_data_predictions[target]\n",
    "    \n",
    "    # Rename the prediction column to reflect the target variable\n",
    "    pred_col_name = f\"predict_{target}\"\n",
    "    pred_df = pred_df.withColumnRenamed(\"prediction\", pred_col_name)\n",
    "    \n",
    "    # Join the predictions to the final DataFrame\n",
    "    final_df = final_df.join(pred_df.select(\"Player Reference\", pred_col_name), on=['Player Reference'], how='left')\n"
   ]
  },
  {
   "cell_type": "code",
   "execution_count": 42,
   "metadata": {},
   "outputs": [
    {
     "name": "stdout",
     "output_type": "stream",
     "text": [
      "+----------------+-------------+--------------------+----+-----------------+------------------+-------------------+------------------+-------------------+------------------+------------------+------------------+-------------------+------------------+------------------+------------------+-------------------+\n",
      "|Player Reference|       Season|              Player| Age|        predict_G|        predict_MP|     predict_3P_Ptg|       predict_TRB|        predict_FG%|       predict_FT%|       predict_AST|       predict_STL|        predict_BLK|       predict_TOV|       predict_PTS|        predict_WS|      predict_WS/48|\n",
      "+----------------+-------------+--------------------+----+-----------------+------------------+-------------------+------------------+-------------------+------------------+------------------+------------------+-------------------+------------------+------------------+------------------+-------------------+\n",
      "|       jokicni01|2024.0-2025.0|        Nikola Jokić|29.0| 64.8926807381271| 34.21350454559925| 0.3199289749156301|10.162832446083382| 0.5481250466372025| 0.811986416457069| 6.837517838677729|1.2170043160216977| 0.8697102424902442|3.0211906641080346| 25.62856543539327|11.184770192744681|0.22758564119231825|\n",
      "|       antetgi01|2024.0-2025.0|Giannis Antetokou...|30.0| 65.0019086820069| 34.98247607151555|0.26454613265297566|10.348381302849798| 0.5641626744083357|0.6828057951714682| 5.724849695802771|1.2461793983121427| 0.9563404490150659|3.1680949597906842|25.173978423233734| 10.19903417901141|0.20766924464463482|\n",
      "|       doncilu01|2024.0-2025.0|         Luka Dončić|25.0| 65.2968156691589|36.360796189677096| 0.3283805634085544| 8.286047279950672|  0.484903499858515|0.7904436602730928| 7.681797901234096|1.5061658526724995|  0.642532097661448|3.4467996321440744| 25.14069722892188|10.046285037251517|0.20429798065246096|\n",
      "|       embiijo01|2024.0-2025.0|         Joel Embiid|30.0|64.34246676918264| 33.91473405307549|0.33288017711367646|10.089443133533562| 0.5098911441088158|0.8262098819119522|  5.86626802555387| 1.136142378114369| 1.4824259573121048|3.2216503442423976| 24.86784289579839| 8.317512025811853| 0.2001292680535836|\n",
      "|       gilgesh01|2024.0-2025.0|Shai Gilgeous-Ale...|26.0|63.85252290410519| 34.94039333448349| 0.3374205651980411| 5.635569005431638| 0.5071541171922779|0.8326847932684863| 6.533379884168447|1.6856111112365804| 0.7052527345682215| 2.506450673633144| 24.34662929048488|10.867922060027787| 0.2165965686510848|\n",
      "|       duranke01|2024.0-2025.0|        Kevin Durant|36.0|64.48069297505992|35.190582019656446| 0.3390082196560333| 6.965172074760122| 0.5038817864834997|0.8294950877294132| 5.212827431997309|0.9607110166585952| 1.1268683884258213|2.8738537575612004|24.103613374402588| 7.243092971237008| 0.1625968733254086|\n",
      "|       mitchdo01|2024.0-2025.0|    Donovan Mitchell|28.0|65.32946698260889| 35.22531870344042| 0.3528197485158946| 5.166217459769075|0.45973455689388615|0.8356029758462529| 5.910516394742803| 1.625945627592888|0.43924098775390547|2.8313914612157434|23.821145647192225|  7.37361117954673|0.15941973541465326|\n",
      "|       davisan02|2024.0-2025.0|       Anthony Davis|31.0|65.46814904724789| 35.25502000424652|0.27596144859508226| 10.50462555631414| 0.5445451948808928|0.7986037774895149| 3.540272055038757|1.0297634043835133| 1.8944279118938039|2.2669457426871706|23.266953999980128| 8.784459321103343|0.19237971023784517|\n",
      "|       tatumja01|2024.0-2025.0|        Jayson Tatum|26.0|65.70237168442769| 35.01807519533009| 0.3389711252270066| 7.661660022096148| 0.4637783531715592|0.8208011013740776| 4.582986870345369| 0.991905992937258| 0.5933865086554413| 2.464844264315773|23.239950732027545|  7.96426866064195|0.17857360669593614|\n",
      "|       edwaran01|2024.0-2025.0|     Anthony Edwards|23.0|64.89086647565416| 34.43937999313624|0.35406868379694356| 5.136805297977985| 0.4553313107151969|0.8176269871063121| 5.358124601175964|1.2178608796075678|0.44880635240858746|2.8603132804849154|22.940278096801457| 6.197814840315097|0.13072960980108192|\n",
      "|       bookede01|2024.0-2025.0|        Devin Booker|28.0|64.77992222149437| 34.90155259296937|0.34498846546152934| 4.282325865433609|0.47323475607769244|0.8372907700848476| 5.879423587834428|0.9602018067202299| 0.3651104126497182|2.5480538599574136| 22.87300882575986| 6.943726060426053|0.14971479829087772|\n",
      "|       jamesle01|2024.0-2025.0|        LeBron James|40.0|65.10584266963517| 34.43377373485284|   0.30845748154514| 6.780011106951665| 0.4926205248743512|0.7583675362410754| 6.801544645637385|1.2004255119415022| 0.6152925655121859| 3.042744724621337| 22.86806104039642| 6.261674648786903|0.14103566834721668|\n",
      "|       brunsja01|2024.0-2025.0|       Jalen Brunson|28.0| 64.6999479460594| 34.94245076765724|0.35441083856177824|3.8589390997157245| 0.4622739423170267|0.8373538314659825| 5.916560352234914|0.9624558043186753|0.25232307600529397| 2.516124740594652| 22.46360305637862| 7.239528152188574| 0.1540277100500522|\n",
      "|       curryst01|2024.0-2025.0|       Stephen Curry|36.0|63.82610510659428| 32.78272493010409| 0.3590047289806985|  4.19120995611366| 0.4479772564471283|0.8378989060316276| 5.088473553054337|0.9140435537962505|0.35238211698553407|2.7417538829200474| 22.28833773282322|  5.99583456780201|0.12930239932625232|\n",
      "|       townska01|2024.0-2025.0|  Karl-Anthony Towns|29.0|62.79681454825043| 32.74972913067344|0.33444629557034333| 7.824465925111671|0.48917061612091167|0.8327538511767696|2.8437661683927913|0.8126638736070447| 0.6864183036964653|2.5885673785676433|21.235210648450263| 6.598938865527224|0.14942595084995117|\n",
      "|       youngtr01|2024.0-2025.0|          Trae Young|26.0|64.95793409515522|  33.9049598089682| 0.3524864493030016|2.9380332623327092| 0.4243818968117743| 0.832450658124542| 6.985394638876519|1.3170922108579939| 0.1885616378016666|3.1399140943852273|21.233316249165775|5.2619354583147935|0.10218250465390201|\n",
      "|         foxde01|2024.0-2025.0|        De'Aaron Fox|27.0|64.39364638621026| 33.65807624109517| 0.3317446387185506| 4.184320065114141|0.45346688247110734|0.7548784048045429| 5.619142315893586|1.5561849803588128| 0.3586551651980725| 2.672149905329772| 20.94609795609456| 5.126201322591916|0.10832755498921463|\n",
      "|       lillada01|2024.0-2025.0|      Damian Lillard|34.0|64.91986263285393| 34.23733503919333| 0.3557962429770792| 4.023779346729699| 0.4319162460334938|0.8385824716636143|5.9227250227846255|1.0878394186318106|0.27648421144466445| 2.636316873389415|20.727513907302566| 6.261338910178693|0.13572161627622173|\n",
      "|       randlju01|2024.0-2025.0|       Julius Randle|30.0|64.09649843288481|33.128683351455436|0.32850748120918394| 7.101048957171876| 0.4640637016126186|0.7873350237596531| 5.069048633068769|0.8822603158746548| 0.4456174080962038|  2.88094134700232| 20.69468954083852| 4.855660590159789|0.11301355375390727|\n",
      "|        banede01|2024.0-2025.0|        Desmond Bane|26.0|62.74566928864673|32.918902321161085| 0.3467567421533992| 4.286887222005882| 0.4547923719966321|0.8311067056935552|  4.69240250256526|0.9940567663082192| 0.4069029258483355|  2.54228245149226| 20.44792604323424|4.5231669585980026|0.09934183911646294|\n",
      "+----------------+-------------+--------------------+----+-----------------+------------------+-------------------+------------------+-------------------+------------------+------------------+------------------+-------------------+------------------+------------------+------------------+-------------------+\n",
      "only showing top 20 rows\n",
      "\n"
     ]
    }
   ],
   "source": [
    "#Result\n",
    "\n",
    "final_df.orderBy(col(\"predict_PTS\").desc()).show()"
   ]
  },
  {
   "cell_type": "code",
   "execution_count": 28,
   "metadata": {},
   "outputs": [
    {
     "name": "stdout",
     "output_type": "stream",
     "text": [
      "+---+----+--------------------+---+---+-----+-------+-------+-----+---+----+----+----+----+---+---+-----+-----+-----+----+-----+----+\n",
      "|_c0|Rank|              Player|Age| Tm|First|Pts Won|Pts Max|Share|  G|  MP| PTS| TRB| AST|STL|BLK|  FG%|  3P%|  FT%|  WS|WS/48|year|\n",
      "+---+----+--------------------+---+---+-----+-------+-------+-----+---+----+----+----+----+---+---+-----+-----+-----+----+-----+----+\n",
      "|  8|  9T|       Carlos Boozer| 25|UTA|  0.0|    7.0|   1290|0.005| 74|34.6|20.9|11.7| 3.0|0.9|0.3|0.561| null|0.685| 9.9|0.185|2007|\n",
      "|  8|   9|        James Harden| 26|HOU|  0.0|    9.0|   1310|0.007| 82|38.1|29.0| 6.1| 7.5|1.7|0.6|0.439|0.359| 0.86|13.3|0.204|2016|\n",
      "| 12|  13|    Andrei Kirilenko| 22|UTA|  0.0|    2.0|   1230|0.002| 78|37.1|16.5| 8.1| 3.1|1.9|2.8|0.443|0.338| 0.79|11.6|0.192|2004|\n",
      "|  9|  9T|           Ray Allen| 29|SEA|  0.0|   41.0|   1270|0.032| 78|39.3|23.9| 4.4| 3.7|1.1|0.1|0.428|0.376|0.883|10.7|0.168|2005|\n",
      "|  3|   4|       Tracy McGrady| 23|ORL|  4.0|  427.0|   1190|0.359| 75|39.4|32.1| 6.5| 5.5|1.7|0.8|0.457|0.386|0.793|16.1|0.262|2003|\n",
      "| 12| 11T|         Paul Pierce| 25|BOS|  0.0|    1.0|   1190|0.001| 79|39.2|25.9| 7.3| 4.4|1.8|0.8|0.416|0.302|0.802|10.1|0.157|2003|\n",
      "| 11|  12|            Yao Ming| 28|HOU|  0.0|    1.0|   1210|0.001| 77|33.6|19.7| 9.9| 1.8|0.4|1.9|0.548|  1.0|0.866|10.6|0.196|2009|\n",
      "|  2|   3|       Blake Griffin| 24|LAC|  0.0|  434.0|   1250|0.347| 80|35.8|24.1| 9.5| 3.9|1.2|0.6|0.528|0.273|0.715|12.2|0.205|2014|\n",
      "|  7|  7T|           John Wall| 26|WAS|  0.0|    7.0|   1010|0.007| 78|36.4|23.1| 4.2|10.7|2.0|0.6|0.451|0.327|0.801| 8.8|0.149|2017|\n",
      "|  8|   9|          Steve Nash| 37|PHO|  0.0|    7.0|   1210|0.006| 62|31.6|12.5| 3.0|10.7|0.6|0.1|0.532| 0.39|0.894| 5.9|0.144|2012|\n",
      "|  0|   1|       Kevin Garnett| 27|MIN|120.0| 1219.0|   1230|0.991| 82|39.4|24.2|13.9| 5.0|1.5|2.2|0.499|0.256|0.791|18.3|0.272|2004|\n",
      "|  6|  7T|Giannis Antetokou...| 22|MIL|  0.0|    7.0|   1010|0.007| 80|35.6|22.9| 8.8| 5.4|1.6|1.9|0.521|0.272| 0.77|12.4| 0.21|2017|\n",
      "|  4|   5|         Kobe Bryant| 34|LAL|  0.0|  184.0|   1210|0.152| 78|38.6|27.3| 5.6| 6.0|1.4|0.3|0.463|0.324|0.839|10.9|0.174|2013|\n",
      "|  6|   7|         Paul Pierce| 31|BOS|  0.0|   21.0|   1210|0.017| 81|37.5|20.5| 5.6| 3.6|1.0|0.3|0.457|0.391| 0.83|10.3|0.164|2009|\n",
      "|  6|   7|        Kevin Durant| 29|GSW|  0.0|   66.0|   1010|0.065| 68|34.2|26.4| 6.8| 5.4|0.7|1.8|0.516|0.419|0.889|10.4|0.215|2018|\n",
      "|  8|   9|          Jason Kidd| 29|NJN|  0.0|   31.0|   1190|0.026| 80|37.4|18.7| 6.3| 8.9|2.2|0.3|0.414|0.341|0.841|11.3|0.182|2003|\n",
      "|  0|   1|          Steve Nash| 30|PHO| 65.0| 1066.0|   1270|0.839| 75|34.3|15.5| 3.3|11.5|1.0|0.1|0.502|0.431|0.887|10.9|0.203|2005|\n",
      "|  5|   6|          Chris Paul| 29|LAC|  0.0|  124.0|   1300|0.095| 82|34.8|19.1| 4.6|10.2|1.9|0.2|0.485|0.398|  0.9|16.1| 0.27|2015|\n",
      "|  5|   6|        LeBron James| 20|CLE|  0.0|   93.0|   1270|0.073| 80|42.4|27.2| 7.4| 7.2|2.2|0.7|0.472|0.351| 0.75|14.3|0.203|2005|\n",
      "|  2|   3|         Kobe Bryant| 28|LAL|  2.0|  521.0|   1290|0.404| 77|40.8|31.6| 5.7| 5.4|1.4|0.5|0.463|0.344|0.868|13.0|0.199|2007|\n",
      "+---+----+--------------------+---+---+-----+-------+-------+-----+---+----+----+----+----+---+---+-----+-----+-----+----+-----+----+\n",
      "only showing top 20 rows\n",
      "\n"
     ]
    }
   ],
   "source": [
    "mvp_2000_2010_path =r\"C:\\Users\\Timothy\\OneDrive\\桌面\\BU Fall '24\\Project\\player_stats\\2001-2010 MVP Data.csv\"\n",
    "mvp_2010_2021_path =r\"C:\\Users\\Timothy\\OneDrive\\桌面\\BU Fall '24\\Project\\player_stats\\2010-2021 MVP Data.csv\"\n",
    "mvp_2022_2023_path =r\"C:\\Users\\Timothy\\OneDrive\\桌面\\BU Fall '24\\Project\\player_stats\\2022-2023 MVP Data.csv\"\n",
    "\n",
    "mvp_2000_2010 = spark.read.csv(mvp_2000_2010_path, header=True, inferSchema=True)\n",
    "mvp_2010_2021 = spark.read.csv(mvp_2010_2021_path, header=True, inferSchema=True)\n",
    "mvp_2022_2023 = spark.read.csv(mvp_2022_2023_path, header=True, inferSchema=True)\n",
    "\n",
    "mvp_voting = mvp_2000_2010.union(mvp_2010_2021).union(mvp_2022_2023).distinct()\n",
    "\n",
    "\n",
    "mvp_voting.show()"
   ]
  },
  {
   "cell_type": "code",
   "execution_count": 29,
   "metadata": {},
   "outputs": [
    {
     "name": "stdout",
     "output_type": "stream",
     "text": [
      "Root Mean Squared Error (RMSE) on test data: 0.21303818660711618\n",
      "R-squared on test data: 0.44763487116750555\n",
      "+---+----+--------------------+---+---+-----+-------+-------+-----+---+----+----+----+----+---+---+-----+-----+-----+----+-----+----+--------------------+-------------------+\n",
      "|_c0|Rank|              Player|Age| Tm|First|Pts Won|Pts Max|Share|  G|  MP| PTS| TRB| AST|STL|BLK|  FG%|  3P%|  FT%|  WS|WS/48|year|            features|         prediction|\n",
      "+---+----+--------------------+---+---+-----+-------+-------+-----+---+----+----+----+----+---+---+-----+-----+-----+----+-----+----+--------------------+-------------------+\n",
      "|  8|   9|        James Harden| 26|HOU|  0.0|    9.0|   1310|0.007| 82|38.1|29.0| 6.1| 7.5|1.7|0.6|0.439|0.359| 0.86|13.3|0.204|2016|[82.0,38.1,29.0,6...|  0.382222642003529|\n",
      "| 12|  13|    Andrei Kirilenko| 22|UTA|  0.0|    2.0|   1230|0.002| 78|37.1|16.5| 8.1| 3.1|1.9|2.8|0.443|0.338| 0.79|11.6|0.192|2004|[78.0,37.1,16.5,8...|0.07859564103774953|\n",
      "|  8|   9|          Steve Nash| 37|PHO|  0.0|    7.0|   1210|0.006| 62|31.6|12.5| 3.0|10.7|0.6|0.1|0.532| 0.39|0.894| 5.9|0.144|2012|[62.0,31.6,12.5,3...|0.09835798706627771|\n",
      "|  0|   1|       Kevin Garnett| 27|MIN|120.0| 1219.0|   1230|0.991| 82|39.4|24.2|13.9| 5.0|1.5|2.2|0.499|0.256|0.791|18.3|0.272|2004|[82.0,39.4,24.2,1...| 0.5294308861050006|\n",
      "|  6|   7|       Dwight Howard| 26|ORL|  0.0|   13.0|   1210|0.011| 54|38.3|20.6|14.5| 1.9|1.5|2.1|0.573|  0.0|0.491| 7.7|0.179|2012|[54.0,38.3,20.6,1...|0.12811593737299043|\n",
      "|  6|   7|      Draymond Green| 25|GSW|  0.0|   50.0|   1310|0.038| 81|34.7|14.0| 9.5| 7.4|1.5|1.4| 0.49|0.388|0.696|11.1| 0.19|2016|[81.0,34.7,14.0,9...|0.10213999119167559|\n",
      "|  0|   1|Giannis Antetokou...| 25|MIL| 85.0|  962.0|   1010|0.952| 63|30.4|29.5|13.6| 5.6|1.0|1.0|0.553|0.304|0.633|11.1|0.279|2020|[63.0,30.4,29.5,1...| 0.4983905568875384|\n",
      "|  2|   3|        James Harden| 30|HOU|  0.0|  367.0|   1010|0.363| 68|36.5|34.3| 6.6| 7.5|1.8|0.9|0.444|0.355|0.865|13.1|0.254|2020|[68.0,36.5,34.3,6...| 0.4966999201980734|\n",
      "|  2|   3|     Jermaine O'Neal| 25|IND|  2.0|  523.0|   1230|0.425| 78|35.7|20.1|10.0| 2.1|0.8|2.6|0.434|0.111|0.757| 9.0|0.155|2004|[78.0,35.7,20.1,1...|0.05073502230392488|\n",
      "|  4|   5|        Kevin Durant| 27|OKC|  0.0|  147.0|   1310|0.112| 72|35.8|28.2| 8.2| 5.0|1.0|1.2|0.505|0.387|0.898|14.5| 0.27|2016|[72.0,35.8,28.2,8...| 0.4712994514121042|\n",
      "+---+----+--------------------+---+---+-----+-------+-------+-----+---+----+----+----+----+---+---+-----+-----+-----+----+-----+----+--------------------+-------------------+\n",
      "only showing top 10 rows\n",
      "\n"
     ]
    }
   ],
   "source": [
    "from pyspark.ml.feature import VectorAssembler\n",
    "from pyspark.ml.regression import RandomForestRegressor\n",
    "\n",
    "mvp_voting = mvp_voting.fillna(0)\n",
    "\n",
    "#Pick '04 '08 '12 '16 '20 as test data years, others train.\n",
    "\n",
    "train_years = [2000, 2001, 2002, 2003, 2005, 2006, 2007, 2009, 2010, 2011, 2013, 2014, 2015, 2017, 2018, 2019, 2021, 2022, 2023]\n",
    "test_years = [2004, 2008, 2012, 2016, 2020]\n",
    "\n",
    "# Select the features and the target column\n",
    "feature_columns = ['G', 'MP', 'PTS', 'TRB', 'AST', 'STL', 'BLK', 'FG%', '3P%', 'FT%', 'WS', 'WS/48']\n",
    "target_column = 'Share'\n",
    "\n",
    "\n",
    "assembler = VectorAssembler(inputCols=feature_columns, outputCol=\"features\")\n",
    "data_assembled = assembler.transform(mvp_voting)\n",
    "\n",
    "# Split the data into training and test sets\n",
    "train_data = data_assembled.filter(data_assembled['year'].isin(train_years))\n",
    "test_data = data_assembled.filter(data_assembled['year'].isin(test_years))\n",
    "\n",
    "\n",
    "rf = RandomForestRegressor(featuresCol=\"features\", labelCol=target_column, numTrees=150)\n",
    "\n",
    "\n",
    "rf_model = rf.fit(train_data)\n",
    "\n",
    "# Make predictions on the test data\n",
    "predictions = rf_model.transform(test_data)\n",
    "\n",
    "\n",
    "\n",
    "predictions.show(10)\n"
   ]
  },
  {
   "cell_type": "code",
   "execution_count": 36,
   "metadata": {},
   "outputs": [
    {
     "name": "stdout",
     "output_type": "stream",
     "text": [
      "+---+----+-----------------+---+---+-----+-------+-------+-----+---+----+----+---+----+---+---+-----+-----+-----+----+-----+----+--------------------+-------------------+\n",
      "|_c0|Rank|           Player|Age| Tm|First|Pts Won|Pts Max|Share|  G|  MP| PTS|TRB| AST|STL|BLK|  FG%|  3P%|  FT%|  WS|WS/48|year|            features|         prediction|\n",
      "+---+----+-----------------+---+---+-----+-------+-------+-----+---+----+----+---+----+---+---+-----+-----+-----+----+-----+----+--------------------+-------------------+\n",
      "|  0|   1|    Stephen Curry| 27|GSW|131.0| 1310.0|   1310|  1.0| 79|34.2|30.1|5.4| 6.7|2.1|0.2|0.504|0.454|0.908|17.9|0.318|2016|[79.0,34.2,30.1,5...| 0.6923687836766527|\n",
      "|  4|   5|     Kevin Durant| 27|OKC|  0.0|  147.0|   1310|0.112| 72|35.8|28.2|8.2| 5.0|1.0|1.2|0.505|0.387|0.898|14.5| 0.27|2016|[72.0,35.8,28.2,8...| 0.4712994514121042|\n",
      "|  8|   9|     James Harden| 26|HOU|  0.0|    9.0|   1310|0.007| 82|38.1|29.0|6.1| 7.5|1.7|0.6|0.439|0.359| 0.86|13.3|0.204|2016|[82.0,38.1,29.0,6...|  0.382222642003529|\n",
      "|  1|   2|    Kawhi Leonard| 24|SAS|  0.0|  634.0|   1310|0.484| 72|33.1|21.2|6.8| 2.6|1.8|1.0|0.506|0.443|0.874|13.7|0.277|2016|[72.0,33.1,21.2,6...|  0.261841903767755|\n",
      "|  3|   4|Russell Westbrook| 27|OKC|  0.0|  486.0|   1310|0.371| 80|34.4|23.5|7.8|10.4|2.0|0.3|0.454|0.296|0.812|14.0|0.245|2016|[80.0,34.4,23.5,7...|0.25740155451496916|\n",
      "|  2|   3|     LeBron James| 31|CLE|  0.0|  631.0|   1310|0.482| 76|35.6|25.3|7.4| 6.8|1.4|0.6| 0.52|0.309|0.731|13.6|0.242|2016|[76.0,35.6,25.3,7...|0.19534144858894198|\n",
      "|  5|   6|       Chris Paul| 30|LAC|  0.0|  107.0|   1310|0.082| 74|32.7|19.5|4.2|10.0|2.1|0.2|0.462|0.371|0.896|12.7|0.253|2016|[74.0,32.7,19.5,4...| 0.1886987202394908|\n",
      "|  6|   7|   Draymond Green| 25|GSW|  0.0|   50.0|   1310|0.038| 81|34.7|14.0|9.5| 7.4|1.5|1.4| 0.49|0.388|0.696|11.1| 0.19|2016|[81.0,34.7,14.0,9...|0.10213999119167559|\n",
      "|  9|  10|       Kyle Lowry| 29|TOR|  0.0|    6.0|   1310|0.005| 77|37.0|21.2|4.7| 6.4|2.1|0.4|0.427|0.388|0.811|11.6|0.196|2016|[77.0,37.0,21.2,4...|0.07211833055953792|\n",
      "|  7|   8|   Damian Lillard| 25|POR|  0.0|   26.0|   1310| 0.02| 75|35.7|25.1|4.0| 6.8|0.9|0.4|0.419|0.375|0.892| 9.2|0.165|2016|[75.0,35.7,25.1,4...|0.04479525075043214|\n",
      "+---+----+-----------------+---+---+-----+-------+-------+-----+---+----+----+---+----+---+---+-----+-----+-----+----+-----+----+--------------------+-------------------+\n",
      "\n"
     ]
    }
   ],
   "source": [
    "predictions.filter(predictions['year'] == 2016).orderBy(col(\"prediction\").desc()).show()"
   ]
  },
  {
   "cell_type": "code",
   "execution_count": 37,
   "metadata": {},
   "outputs": [
    {
     "name": "stdout",
     "output_type": "stream",
     "text": [
      "+---+----+--------------------+---+---+-----+-------+-------+-----+---+----+----+----+----+---+---+-----+-----+-----+----+-----+----+--------------------+--------------------+\n",
      "|_c0|Rank|              Player|Age| Tm|First|Pts Won|Pts Max|Share|  G|  MP| PTS| TRB| AST|STL|BLK|  FG%|  3P%|  FT%|  WS|WS/48|year|            features|          prediction|\n",
      "+---+----+--------------------+---+---+-----+-------+-------+-----+---+----+----+----+----+---+---+-----+-----+-----+----+-----+----+--------------------+--------------------+\n",
      "|  0|   1|Giannis Antetokou...| 25|MIL| 85.0|  962.0|   1010|0.952| 63|30.4|29.5|13.6| 5.6|1.0|1.0|0.553|0.304|0.633|11.1|0.279|2020|[63.0,30.4,29.5,1...|  0.4983905568875384|\n",
      "|  2|   3|        James Harden| 30|HOU|  0.0|  367.0|   1010|0.363| 68|36.5|34.3| 6.6| 7.5|1.8|0.9|0.444|0.355|0.865|13.1|0.254|2020|[68.0,36.5,34.3,6...|  0.4966999201980734|\n",
      "|  7|   8|      Damian Lillard| 29|POR|  0.0|   23.0|   1010|0.023| 66|37.5|30.0| 4.3| 8.0|1.1|0.3|0.463|0.401|0.888|11.6|0.225|2020|[66.0,37.5,30.0,4...|  0.2458524891181795|\n",
      "|  5|   6|       Anthony Davis| 26|LAL|  0.0|   82.0|   1010|0.081| 62|34.4|26.1| 9.3| 3.2|1.5|2.3|0.503| 0.33|0.846|11.1| 0.25|2020|[62.0,34.4,26.1,9...| 0.16955499682039352|\n",
      "|  3|   4|         Luka Dončić| 20|DAL|  0.0|  200.0|   1010|0.198| 61|33.6|28.8| 9.4| 8.8|1.0|0.2|0.463|0.316|0.758| 8.8|0.207|2020|[61.0,33.6,28.8,9...| 0.14253357022000226|\n",
      "|  4|   5|       Kawhi Leonard| 28|LAC|  0.0|  168.0|   1010|0.166| 57|32.4|27.1| 7.1| 4.9|1.8|0.6| 0.47|0.378|0.886| 8.7|0.226|2020|[57.0,32.4,27.1,7...|  0.1299597833947109|\n",
      "|  1|   2|        LeBron James| 35|LAL| 16.0|  753.0|   1010|0.746| 67|34.6|25.3| 7.8|10.2|1.2|0.5|0.493|0.348|0.693| 9.8|0.204|2020|[67.0,34.6,25.3,7...| 0.10847618650289403|\n",
      "|  8|   9|        Nikola Jokić| 24|DEN|  0.0|   18.0|   1010|0.018| 73|32.0|19.9| 9.7| 7.0|1.2|0.6|0.528|0.314|0.817| 9.8|0.202|2020|[73.0,32.0,19.9,9...| 0.08944379098348687|\n",
      "| 10|  11|        Jimmy Butler| 30|MIA|  0.0|    9.0|   1010|0.009| 58|33.8|19.9| 6.7| 6.0|1.8|0.6|0.455|0.244|0.834| 9.0|0.221|2020|[58.0,33.8,19.9,6...| 0.07125318057424529|\n",
      "|  6|   7|          Chris Paul| 34|OKC|  0.0|   26.0|   1010|0.026| 70|31.5|17.6| 5.0| 6.7|1.6|0.2|0.489|0.365|0.907| 8.9|0.193|2020|[70.0,31.5,17.6,5...| 0.03926036138512848|\n",
      "| 11|  12|        Jayson Tatum| 21|BOS|  0.0|    1.0|   1010|0.001| 66|34.3|23.4| 7.0| 3.0|1.4|0.9| 0.45|0.403|0.812| 6.9|0.146|2020|[66.0,34.3,23.4,7...|0.032974245407889756|\n",
      "|  9|  10|       Pascal Siakam| 25|TOR|  0.0|   17.0|   1010|0.017| 60|35.2|22.9| 7.3| 3.5|1.0|0.9|0.453|0.359|0.792| 5.4|0.123|2020|[60.0,35.2,22.9,7...|0.027788729742943444|\n",
      "+---+----+--------------------+---+---+-----+-------+-------+-----+---+----+----+----+----+---+---+-----+-----+-----+----+-----+----+--------------------+--------------------+\n",
      "\n"
     ]
    }
   ],
   "source": [
    "predictions.filter(predictions['year'] == 2020).orderBy(col(\"prediction\").desc()).show()"
   ]
  },
  {
   "cell_type": "code",
   "execution_count": 38,
   "metadata": {},
   "outputs": [
    {
     "name": "stdout",
     "output_type": "stream",
     "text": [
      "+---+----+-----------------+---+---+-----+-------+-------+-----+---+----+----+----+----+---+---+-----+-----+-----+----+-----+----+--------------------+--------------------+\n",
      "|_c0|Rank|           Player|Age| Tm|First|Pts Won|Pts Max|Share|  G|  MP| PTS| TRB| AST|STL|BLK|  FG%|  3P%|  FT%|  WS|WS/48|year|            features|          prediction|\n",
      "+---+----+-----------------+---+---+-----+-------+-------+-----+---+----+----+----+----+---+---+-----+-----+-----+----+-----+----+--------------------+--------------------+\n",
      "|  0|   1|     LeBron James| 27|MIA| 85.0| 1074.0|   1210|0.888| 62|37.5|27.1| 7.9| 6.2|1.9|0.8|0.531|0.362|0.771|14.5|0.298|2012|[62.0,37.5,27.1,7...| 0.49678601975064995|\n",
      "|  1|   2|     Kevin Durant| 23|OKC| 24.0|  889.0|   1210|0.735| 66|38.6|28.0| 8.0| 3.5|1.3|1.2|0.496|0.387| 0.86|12.2| 0.23|2012|[66.0,38.6,28.0,8...| 0.22484238070866122|\n",
      "|  2|   3|       Chris Paul| 26|LAC|  6.0|  385.0|   1210|0.318| 60|36.4|19.8| 3.6| 9.1|2.5|0.1|0.478|0.371|0.861|12.7|0.278|2012|[60.0,36.4,19.8,3...| 0.19295664308311794|\n",
      "|  6|   7|    Dwight Howard| 26|ORL|  0.0|   13.0|   1210|0.011| 54|38.3|20.6|14.5| 1.9|1.5|2.1|0.573|  0.0|0.491| 7.7|0.179|2012|[54.0,38.3,20.6,1...| 0.12811593737299043|\n",
      "|  5|   6|       Kevin Love| 23|MIN|  0.0|   58.0|   1210|0.048| 55|39.0|26.0|13.3| 2.0|0.9|0.5|0.448|0.372|0.824|10.0|0.223|2012|[55.0,39.0,26.0,1...| 0.10616656417714833|\n",
      "|  7|   8|      Rajon Rondo| 25|BOS|  0.0|   12.0|   1210| 0.01| 53|36.9|11.9| 4.8|11.7|1.8|0.1|0.448|0.238|0.597| 4.9|0.121|2012|[53.0,36.9,11.9,4...| 0.10098655670333408|\n",
      "|  8|   9|       Steve Nash| 37|PHO|  0.0|    7.0|   1210|0.006| 62|31.6|12.5| 3.0|10.7|0.6|0.1|0.532| 0.39|0.894| 5.9|0.144|2012|[62.0,31.6,12.5,3...| 0.09835798706627771|\n",
      "| 10|  11|     Derrick Rose| 23|CHI|  0.0|    5.0|   1210|0.004| 39|35.3|21.8| 3.4| 7.9|0.9|0.7|0.435|0.312|0.812| 6.0|0.211|2012|[39.0,35.3,21.8,3...| 0.08800000549560515|\n",
      "|  3|   4|      Kobe Bryant| 33|LAL|  2.0|  352.0|   1210|0.291| 58|38.5|27.9| 5.4| 4.6|1.2|0.3| 0.43|0.303|0.845| 6.2|0.132|2012|[58.0,38.5,27.9,5...| 0.07960896010367526|\n",
      "|  9|  10|      Dwyane Wade| 30|MIA|  0.0|    6.0|   1210|0.005| 49|33.2|22.1| 4.8| 4.6|1.7|1.3|0.497|0.268|0.791| 7.7|0.227|2012|[49.0,33.2,22.1,4...| 0.07757682613346696|\n",
      "| 11| 12T|    Dirk Nowitzki| 33|DAL|  0.0|    4.0|   1210|0.003| 62|33.5|21.6| 6.7| 2.2|0.7|0.5|0.457|0.368|0.896| 7.6|0.175|2012|[62.0,33.5,21.6,6...|0.036006819787802874|\n",
      "| 14|  15|      Joe Johnson| 30|ATL|  0.0|    1.0|   1210|0.001| 60|35.5|18.8| 3.7| 3.9|0.8|0.2|0.454|0.388|0.849| 6.4|0.145|2012|[60.0,35.5,18.8,3...| 0.02988592513665281|\n",
      "|  4|   5|      Tony Parker| 29|SAS|  4.0|  331.0|   1210|0.274| 60|32.1|18.3| 2.9| 7.7|1.0|0.1| 0.48| 0.23|0.799| 7.1|0.177|2012|[60.0,32.1,18.3,2...|0.029437808973909962|\n",
      "| 12| 12T|Russell Westbrook| 23|OKC|  0.0|    4.0|   1210|0.003| 66|35.3|23.6| 4.6| 5.5|1.7|0.3|0.457|0.316|0.823| 7.9|0.163|2012|[66.0,35.3,23.6,4...|0.027837059446952774|\n",
      "| 13|  14|       Tim Duncan| 35|SAS|  0.0|    3.0|   1210|0.002| 58|28.2|15.4| 9.0| 2.3|0.7|1.5|0.492|  0.0|0.695| 5.9|0.174|2012|[58.0,28.2,15.4,9...| 0.02710855624319964|\n",
      "+---+----+-----------------+---+---+-----+-------+-------+-----+---+----+----+----+----+---+---+-----+-----+-----+----+-----+----+--------------------+--------------------+\n",
      "\n"
     ]
    }
   ],
   "source": [
    "predictions.filter(predictions['year'] == 2012).orderBy(col(\"prediction\").desc()).show()"
   ]
  },
  {
   "cell_type": "code",
   "execution_count": 40,
   "metadata": {},
   "outputs": [
    {
     "name": "stdout",
     "output_type": "stream",
     "text": [
      "+---+----+----------------+---+---+-----+-------+-------+-----+---+----+----+----+---+---+---+-----+-----+-----+----+-----+----+--------------------+-------------------+\n",
      "|_c0|Rank|          Player|Age| Tm|First|Pts Won|Pts Max|Share|  G|  MP| PTS| TRB|AST|STL|BLK|  FG%|  3P%|  FT%|  WS|WS/48|year|            features|         prediction|\n",
      "+---+----+----------------+---+---+-----+-------+-------+-----+---+----+----+----+---+---+---+-----+-----+-----+----+-----+----+--------------------+-------------------+\n",
      "|  0|   1|   Kevin Garnett| 27|MIN|120.0| 1219.0|   1230|0.991| 82|39.4|24.2|13.9|5.0|1.5|2.2|0.499|0.256|0.791|18.3|0.272|2004|[82.0,39.4,24.2,1...| 0.5294308861050006|\n",
      "|  1|   2|      Tim Duncan| 27|SAS|  0.0|  716.0|   1230|0.582| 69|36.6|22.3|12.4|3.1|0.9|2.7|0.501|0.167|0.599|13.1|0.249|2004|[69.0,36.6,22.3,1...|0.23461067748526976|\n",
      "|  5|   6|Shaquille O'Neal| 31|LAL|  0.0|  178.0|   1230|0.145| 67|36.8|21.5|11.5|2.9|0.5|2.5|0.584|  0.0| 0.49| 9.9|0.192|2004|[67.0,36.8,21.5,1...| 0.1891650308863566|\n",
      "|  3|   4| Peja Stojaković| 26|SAC|  1.0|  281.0|   1230|0.228| 81|40.3|24.2| 6.3|2.1|1.3|0.2| 0.48|0.433|0.927|13.5|0.198|2004|[81.0,40.3,24.2,6...|0.13552117384928422|\n",
      "|  9| 10T|     Sam Cassell| 34|MIN|  0.0|    4.0|   1230|0.003| 81|35.0|19.8| 3.3|7.3|1.3|0.2|0.488|0.398|0.873|12.1|0.205|2004|[81.0,35.0,19.8,3...|0.12378381378937275|\n",
      "|  7|   8|      Jason Kidd| 30|NJN|  0.0|   17.0|   1230|0.014| 67|36.6|15.5| 6.4|9.2|1.8|0.2|0.384|0.321|0.827| 7.2|0.141|2004|[67.0,36.6,15.5,6...|0.11771518016344373|\n",
      "| 14| 14T|        Yao Ming| 23|HOU|  0.0|    1.0|   1230|0.001| 82|32.8|17.5| 9.0|1.5|0.3|1.9|0.522|  0.0|0.809|11.4|0.202|2004|[82.0,32.8,17.5,9...|0.11161226483445676|\n",
      "| 10| 10T|     Baron Davis| 24|NOH|  0.0|    4.0|   1230|0.003| 67|40.1|22.9| 4.3|7.5|2.4|0.4|0.395|0.321|0.673| 7.5|0.133|2004|[67.0,40.1,22.9,4...|0.09468857955192775|\n",
      "|  6|   7|     Ben Wallace| 29|DET|  0.0|   24.0|   1230| 0.02| 81|37.7| 9.5|12.4|1.7|1.8|3.0|0.421|0.125| 0.49|10.2| 0.16|2004|[81.0,37.7,9.5,12...|0.07916038778044594|\n",
      "| 12|  13|Andrei Kirilenko| 22|UTA|  0.0|    2.0|   1230|0.002| 78|37.1|16.5| 8.1|3.1|1.9|2.8|0.443|0.338| 0.79|11.6|0.192|2004|[78.0,37.1,16.5,8...|0.07859564103774953|\n",
      "|  4|   5|     Kobe Bryant| 25|LAL|  0.0|  212.0|   1230|0.172| 65|37.6|24.0| 5.5|5.1|1.7|0.4|0.438|0.327|0.852|10.7| 0.21|2004|[65.0,37.6,24.0,5...|0.07836078491651922|\n",
      "| 11| 10T|   Dirk Nowitzki| 25|DAL|  0.0|    4.0|   1230|0.003| 77|37.9|21.8| 8.7|2.7|1.2|1.4|0.462|0.341|0.877|11.5| 0.19|2004|[77.0,37.9,21.8,8...|0.05909863453469037|\n",
      "|  2|   3| Jermaine O'Neal| 25|IND|  2.0|  523.0|   1230|0.425| 78|35.7|20.1|10.0|2.1|0.8|2.6|0.434|0.111|0.757| 9.0|0.155|2004|[78.0,35.7,20.1,1...|0.05073502230392488|\n",
      "| 15| 14T|    Michael Redd| 24|MIL|  0.0|    1.0|   1230|0.001| 82|36.8|21.7| 5.0|2.3|1.0|0.1| 0.44| 0.35|0.868| 9.7|0.154|2004|[82.0,36.8,21.7,5...|0.03998197785700295|\n",
      "|  8|   9|    LeBron James| 19|CLE|  0.0|   11.0|   1230|0.009| 79|39.5|20.9| 5.5|5.9|1.6|0.7|0.417| 0.29|0.754| 5.1|0.078|2004|[79.0,39.5,20.9,5...|0.03927459219376551|\n",
      "| 13| 14T| Carmelo Anthony| 19|DEN|  0.0|    1.0|   1230|0.001| 82|36.5|21.0| 6.1|2.8|1.2|0.5|0.426|0.322|0.777| 6.1|0.098|2004|[82.0,36.5,21.0,6...|0.03140417525074969|\n",
      "+---+----+----------------+---+---+-----+-------+-------+-----+---+----+----+----+---+---+---+-----+-----+-----+----+-----+----+--------------------+-------------------+\n",
      "\n"
     ]
    }
   ],
   "source": [
    "predictions.filter(predictions['year'] == 2004).orderBy(col(\"prediction\").desc()).show()"
   ]
  },
  {
   "cell_type": "code",
   "execution_count": 39,
   "metadata": {},
   "outputs": [
    {
     "name": "stdout",
     "output_type": "stream",
     "text": [
      "+---+----+-----------------+---+---+-----+-------+-------+-----+---+----+----+----+----+---+---+-----+-----+-----+----+-----+----+--------------------+--------------------+\n",
      "|_c0|Rank|           Player|Age| Tm|First|Pts Won|Pts Max|Share|  G|  MP| PTS| TRB| AST|STL|BLK|  FG%|  3P%|  FT%|  WS|WS/48|year|            features|          prediction|\n",
      "+---+----+-----------------+---+---+-----+-------+-------+-----+---+----+----+----+----+---+---+-----+-----+-----+----+-----+----+--------------------+--------------------+\n",
      "|  3|   4|     LeBron James| 23|CLE|  1.0|  438.0|   1260|0.348| 75|40.4|30.0| 7.9| 7.2|1.8|1.1|0.484|0.315|0.712|15.2|0.242|2008|[75.0,40.4,30.0,7...|  0.5293313877562136|\n",
      "|  1|   2|       Chris Paul| 22|NOH| 28.0|  894.0|   1260| 0.71| 80|37.6|21.1| 4.0|11.6|2.7|0.1|0.488|0.369|0.851|17.8|0.284|2008|[80.0,37.6,21.1,4...|  0.3544131326967456|\n",
      "|  0|   1|      Kobe Bryant| 29|LAL| 82.0| 1100.0|   1260|0.873| 82|38.9|28.3| 6.3| 5.4|1.8|0.5|0.459|0.361| 0.84|13.8|0.208|2008|[82.0,38.9,28.3,6...|  0.2916311865939052|\n",
      "|  5|   6|Amar'e Stoudemire| 25|PHO|  0.0|   27.0|   1260|0.021| 79|33.9|25.2| 9.1| 1.5|0.8|2.1| 0.59|0.161|0.805|14.6|0.262|2008|[79.0,33.9,25.2,9...|  0.2914312477257825|\n",
      "|  4|   5|    Dwight Howard| 22|ORL|  0.0|   60.0|   1260|0.048| 82|37.7|20.7|14.2| 1.3|0.9|2.1|0.599|  0.0| 0.59|12.9|  0.2|2008|[82.0,37.7,20.7,1...| 0.24298760057711252|\n",
      "|  8|   9|       Steve Nash| 33|PHO|  0.0|   18.0|   1260|0.014| 81|34.3|16.9| 3.5|11.1|0.7|0.1|0.504| 0.47|0.906|10.5|0.181|2008|[81.0,34.3,16.9,3...| 0.19763540336758756|\n",
      "|  2|   3|    Kevin Garnett| 31|BOS| 15.0|  670.0|   1260|0.532| 71|32.8|18.8| 9.2| 3.4|1.4|1.3|0.539|  0.0|0.801|12.9|0.265|2008|[71.0,32.8,18.8,9...| 0.19536622243319465|\n",
      "| 10|  11|    Dirk Nowitzki| 29|DAL|  0.0|    5.0|   1260|0.004| 77|36.0|23.6| 8.6| 3.5|0.7|0.9|0.479|0.359|0.879|12.9|0.223|2008|[77.0,36.0,23.6,8...| 0.13494977951596426|\n",
      "|  6|   7|       Tim Duncan| 31|SAS|  0.0|   25.0|   1260| 0.02| 78|34.0|19.3|11.3| 2.8|0.7|1.9|0.497|  0.0| 0.73|11.1|0.201|2008|[78.0,34.0,19.3,1...| 0.10355502883207827|\n",
      "| 15| 14T|      Paul Pierce| 30|BOS|  0.0|    1.0|   1260|0.001| 80|35.9|19.6| 5.1| 4.5|1.3|0.5|0.464|0.392|0.843|12.4|0.207|2008|[80.0,35.9,19.6,5...| 0.08723225635199058|\n",
      "|  9|  10|    Manu Ginóbili| 30|SAS|  0.0|    9.0|   1260|0.007| 74|31.1|19.5| 4.8| 4.5|1.5|0.4| 0.46|0.401| 0.86|11.1|0.232|2008|[74.0,31.1,19.5,4...| 0.08428666622444064|\n",
      "| 11|  12|   Deron Williams| 23|UTA|  0.0|    4.0|   1260|0.003| 82|37.3|18.8| 3.0|10.5|1.1|0.3|0.507|0.395|0.803|11.3|0.177|2008|[82.0,37.3,18.8,3...| 0.08262400053664329|\n",
      "| 13| 14T|    Carlos Boozer| 26|UTA|  0.0|    1.0|   1260|0.001| 81|34.9|21.1|10.4| 2.9|1.2|0.5|0.547|  0.0|0.738|10.2|0.173|2008|[81.0,34.9,21.1,1...|0.060000430399705706|\n",
      "| 16| 14T|  Rasheed Wallace| 33|DET|  0.0|    1.0|   1260|0.001| 77|30.5|12.7| 6.6| 1.8|1.2|1.7|0.432|0.356|0.767| 7.6|0.155|2008|[77.0,30.5,12.7,6...| 0.04296928598030664|\n",
      "| 14| 14T|   Antawn Jamison| 31|WAS|  0.0|    1.0|   1260|0.001| 79|38.7|21.4|10.2| 1.5|1.3|0.4|0.436|0.339| 0.76| 9.2|0.144|2008|[79.0,38.7,21.4,1...| 0.03942881262102564|\n",
      "| 12|  13|  Carmelo Anthony| 23|DEN|  0.0|    3.0|   1260|0.002| 77|36.4|25.7| 7.4| 3.4|1.3|0.5|0.492|0.354|0.786| 8.2| 0.14|2008|[77.0,36.4,25.7,7...| 0.03603350334505012|\n",
      "|  7|   8|    Tracy McGrady| 28|HOU|  0.0|   19.0|   1260|0.015| 66|37.0|21.6| 5.1| 5.9|1.0|0.5|0.419|0.292|0.684| 5.8|0.115|2008|[66.0,37.0,21.6,5...|0.025066766405481646|\n",
      "+---+----+-----------------+---+---+-----+-------+-------+-----+---+----+----+----+----+---+---+-----+-----+-----+----+-----+----+--------------------+--------------------+\n",
      "\n"
     ]
    }
   ],
   "source": [
    "predictions.filter(predictions['year'] == 2008).orderBy(col(\"prediction\").desc()).show()"
   ]
  },
  {
   "cell_type": "code",
   "execution_count": 41,
   "metadata": {},
   "outputs": [
    {
     "name": "stdout",
     "output_type": "stream",
     "text": [
      "+-----+------+-------+-------+-------+-------+-------+-------+-------+-------+------+---------+\n",
      "|Min_G|Min_MP|Min_PTS|Min_TRB|Min_AST|Min_STL|Min_BLK|Min_FG%|Min_3P%|Min_FT%|Min_WS|Min_WS/48|\n",
      "+-----+------+-------+-------+-------+-------+-------+-------+-------+-------+------+---------+\n",
      "|   44|  25.6|   13.9|    2.6|    1.3|    0.6|    0.1|  0.419|    0.0|  0.613|   3.1|    0.075|\n",
      "+-----+------+-------+-------+-------+-------+-------+-------+-------+-------+------+---------+\n",
      "\n"
     ]
    }
   ],
   "source": [
    "from pyspark.sql.functions import min\n",
    "\n",
    "last_10_mvp = mvp_voting.filter(mvp_voting['year'] > 2014)\n",
    "\n",
    "# Calculate the minimum values for the specified columns across the entire DataFrame\n",
    "min_values = last_10_mvp.agg(\n",
    "    min(\"G\").alias(\"Min_G\"),\n",
    "    min(\"MP\").alias(\"Min_MP\"),\n",
    "    min(\"PTS\").alias(\"Min_PTS\"),\n",
    "    min(\"TRB\").alias(\"Min_TRB\"),\n",
    "    min(\"AST\").alias(\"Min_AST\"),\n",
    "    min(\"STL\").alias(\"Min_STL\"),\n",
    "    min(\"BLK\").alias(\"Min_BLK\"),\n",
    "    min(\"FG%\").alias(\"Min_FG%\"),\n",
    "    min(\"3P%\").alias(\"Min_3P%\"),\n",
    "    min(\"FT%\").alias(\"Min_FT%\"),\n",
    "    min(\"WS\").alias(\"Min_WS\"),\n",
    "    min(\"WS/48\").alias(\"Min_WS/48\")\n",
    ")\n",
    "\n",
    "# Show the minimum values\n",
    "min_values.show()\n"
   ]
  },
  {
   "cell_type": "code",
   "execution_count": 32,
   "metadata": {},
   "outputs": [],
   "source": [
    "from pyspark.sql.functions import col\n",
    "\n",
    "#Clear out the players that are highly possible not in the conversation of MVP awards.\n",
    "\n",
    "eligible_player = final_df.filter(\n",
    "    (col('predict_G') >= 44) & \n",
    "    (col('predict_MP') >= 25.6) & \n",
    "    (col('predict_PTS') >= 13.9) & \n",
    "    (col('predict_TRB') >= 2.6) & \n",
    "    (col('predict_AST') >= 1.3) & \n",
    "    (col('predict_STL') >= 0.6) & \n",
    "    (col('predict_BLK') >= 0.1) & \n",
    "    (col('predict_FG%') >= 0.419) & \n",
    "    (col('predict_3P_Ptg') >= 0.0) & \n",
    "    (col('predict_FT%') >= 0.613) & \n",
    "    (col('predict_WS') >= 3.1) & \n",
    "    (col('predict_WS/48') >= 0.075)\n",
    ")\n"
   ]
  },
  {
   "cell_type": "code",
   "execution_count": 33,
   "metadata": {},
   "outputs": [],
   "source": [
    "column_mapping = {\n",
    "    'predict_G': 'G',\n",
    "    'predict_MP': 'MP',\n",
    "    'predict_3P_Ptg': '3P%',\n",
    "    'predict_TRB': 'TRB',\n",
    "    'predict_FG%': 'FG%',\n",
    "    'predict_FT%': 'FT%',\n",
    "    'predict_AST': 'AST',\n",
    "    'predict_STL': 'STL',\n",
    "    'predict_BLK': 'BLK',\n",
    "    'predict_TOV': 'TOV',\n",
    "    'predict_PTS': 'PTS',\n",
    "    'predict_WS': 'WS',\n",
    "    'predict_WS/48': 'WS/48'\n",
    "}\n",
    "\n",
    "for old_name, new_name in column_mapping.items():\n",
    "    eligible_player = eligible_player.withColumnRenamed(old_name, new_name)\n",
    "\n",
    "\n",
    "feature_columns = ['G', 'MP', 'PTS', 'TRB', 'AST', 'STL', 'BLK', 'FG%', '3P%', 'FT%', 'WS', 'WS/48']\n",
    "target_column = 'Share'\n",
    "\n",
    "assembler = VectorAssembler(inputCols=feature_columns, outputCol=\"features\")\n",
    "df_transformed = assembler.transform(eligible_player)\n",
    "\n",
    "mvp_predictions = rf_model.transform(df_transformed)\n"
   ]
  },
  {
   "cell_type": "code",
   "execution_count": 35,
   "metadata": {},
   "outputs": [
    {
     "name": "stdout",
     "output_type": "stream",
     "text": [
      "+----------------+-------------+--------------------+----+------------------+------------------+-------------------+------------------+-------------------+------------------+------------------+------------------+-------------------+------------------+------------------+------------------+-------------------+--------------------+--------------------+\n",
      "|Player Reference|       Season|              Player| Age|                 G|                MP|                3P%|               TRB|                FG%|               FT%|               AST|               STL|                BLK|               TOV|               PTS|                WS|              WS/48|            features|          prediction|\n",
      "+----------------+-------------+--------------------+----+------------------+------------------+-------------------+------------------+-------------------+------------------+------------------+------------------+-------------------+------------------+------------------+------------------+-------------------+--------------------+--------------------+\n",
      "|       jokicni01|2024.0-2025.0|        Nikola Jokić|29.0|  64.8926807381271| 34.21350454559925| 0.3199289749156301|10.162832446083382| 0.5481250466372025| 0.811986416457069| 6.837517838677729|1.2170043160216977| 0.8697102424902442|3.0211906641080346| 25.62856543539327|11.184770192744681|0.22758564119231825|[64.8926807381271...|  0.1962820063696923|\n",
      "|       antetgi01|2024.0-2025.0|Giannis Antetokou...|30.0|  65.0019086820069| 34.98247607151555|0.26454613265297566|10.348381302849798| 0.5641626744083357|0.6828057951714682| 5.724849695802771|1.2461793983121427| 0.9563404490150659|3.1680949597906842|25.173978423233734| 10.19903417901141|0.20766924464463482|[65.0019086820069...| 0.15220147047741983|\n",
      "|       gilgesh01|2024.0-2025.0|Shai Gilgeous-Ale...|26.0| 63.85252290410519| 34.94039333448349| 0.3374205651980411| 5.635569005431638| 0.5071541171922779|0.8326847932684863| 6.533379884168447|1.6856111112365804| 0.7052527345682215| 2.506450673633144| 24.34662929048488|10.867922060027787| 0.2165965686510848|[63.8525229041051...| 0.08672118285529012|\n",
      "|       embiijo01|2024.0-2025.0|         Joel Embiid|30.0| 64.34246676918264| 33.91473405307549|0.33288017711367646|10.089443133533562| 0.5098911441088158|0.8262098819119522|  5.86626802555387| 1.136142378114369| 1.4824259573121048|3.2216503442423976| 24.86784289579839| 8.317512025811853| 0.2001292680535836|[64.3424667691826...| 0.08148823403476622|\n",
      "|       doncilu01|2024.0-2025.0|         Luka Dončić|25.0|  65.2968156691589|36.360796189677096| 0.3283805634085544| 8.286047279950672|  0.484903499858515|0.7904436602730928| 7.681797901234096|1.5061658526724995|  0.642532097661448|3.4467996321440744| 25.14069722892188|10.046285037251517|0.20429798065246096|[65.2968156691589...| 0.08003462621122114|\n",
      "|       davisan02|2024.0-2025.0|       Anthony Davis|31.0| 65.46814904724789| 35.25502000424652|0.27596144859508226| 10.50462555631414| 0.5445451948808928|0.7986037774895149| 3.540272055038757|1.0297634043835133| 1.8944279118938039|2.2669457426871706|23.266953999980128| 8.784459321103343|0.19237971023784517|[65.4681490472478...| 0.06654667104201391|\n",
      "|       allenja01|2024.0-2025.0|       Jarrett Allen|26.0| 64.64212972198354|30.972694511283134|0.09116072296721146|  9.35306980088581| 0.5912540012289615|0.7284243094626928|2.2759793247546183|0.7948148672225266| 1.1084580440479943|1.7304168036272771|14.620854441184388|  7.52380615423279| 0.1761535020719159|[64.6421297219835...| 0.05229923735964589|\n",
      "|       sabondo01|2024.0-2025.0|    Domantas Sabonis|28.0| 64.94870213533856| 35.19903349945007|0.29783603758621335| 9.866026441872226| 0.5362259248429766|0.7269236953650475|  6.98926811716256| 1.016164134874189| 0.7122692247278312|3.0837411148585314|19.166262864986134| 9.016228110318258|0.18973753972794455|[64.9487021353385...| 0.04405875111964252|\n",
      "|       hardeja01|2024.0-2025.0|        James Harden|35.0| 64.98859019109052| 34.09498619203193|0.35200060846583475| 5.250625896843607|0.45194446035328384|0.8355514568819222| 6.726512275187605|1.1149517253105308| 0.6545627194964513|2.5576456224244537|17.236162950997667| 6.840572358355176|0.15107347878024838|[64.9885901910905...| 0.03577507371045961|\n",
      "|       portemi01|2024.0-2025.0|  Michael Porter Jr.|26.0|62.714435462724275|28.677280673326393|0.33184666296238036| 6.095622039723784|0.46535706502847396|0.8041579731020202|1.5882194323652146|0.6489410116497831| 0.5865973650221696|1.2767143839938617|14.072902706966888| 4.039451713777742|0.09974141266610576|[62.7144354627242...| 0.03419829211067001|\n",
      "|       jacksja02|2024.0-2025.0|   Jaren Jackson Jr.|25.0| 63.08611165228413| 30.60354808487075|0.33282349439662723| 5.108006870680047|0.45203019611289874|0.8057224079826765|2.4500875678126572|0.9477018921934781| 1.1007013696373829|2.1015935252912077| 17.81854001199759|3.4691161014536336|0.08727308113476619|[63.0861116522841...| 0.03230890478033876|\n",
      "|       tatumja01|2024.0-2025.0|        Jayson Tatum|26.0| 65.70237168442769| 35.01807519533009| 0.3389711252270066| 7.661660022096148| 0.4637783531715592|0.8208011013740776| 4.582986870345369| 0.991905992937258| 0.5933865086554413| 2.464844264315773|23.239950732027545|  7.96426866064195|0.17857360669593614|[65.7023716844276...|0.031927604688734304|\n",
      "|       harrito02|2024.0-2025.0|       Tobias Harris|32.0| 64.80572482727409|30.875089818170462|0.34368115960290707| 5.614974119997209|0.47919093832920845|0.8269114535104449| 2.907331821013761|0.8990368256273799|  0.537003394391608|1.6114010260646097|14.916191863277566| 4.675088876940877|0.10995289135016774|[64.8057248272740...| 0.03178535663999538|\n",
      "|       markkla01|2024.0-2025.0|     Lauri Markkanen|27.0| 64.18679680919001| 30.58558924403801|0.34818579961271345| 7.364098366683569|0.47868671311065464|0.8311870126574115|1.9867819659830743|0.7820747910360677| 0.5837641099705551|1.5133617252539753|17.567862228408856| 5.860276866669871| 0.1408909903362734|[64.1867968091900...| 0.03162406102333035|\n",
      "|       murraja01|2024.0-2025.0|        Jamal Murray|27.0| 64.06379027727566|31.118717721100385|0.34272731358985015| 4.413349809478851| 0.4646565386932117|0.8274385845284685| 5.046604041925121|0.9110020448919904| 0.5126236386707002|2.1475293582563073| 18.04990651215255| 5.306314781262075| 0.1241671283575045|[64.0637902772756...| 0.03156066060836287|\n",
      "|       quickim01|2024.0-2025.0|   Immanuel Quickley|25.0| 63.02282366716375|26.909102688980507| 0.3590691878422729| 3.010294201033683| 0.4297548621340967| 0.828621994335516| 3.555336351465846|0.7665248580880498|0.19568412958736922|1.5024730848019994|13.992962129292835| 3.653444255290645|0.10328676059743688|[63.0228236671637...|0.031468524133815914|\n",
      "|       whitede01|2024.0-2025.0|       Derrick White|30.0| 64.51481672247057| 30.68892580707636| 0.3518273322930041| 4.740704815949983| 0.4605998974473784|0.8326892403015733| 4.214557895096358|1.0121821542958567|  0.849493388991623|1.7223021246885053|14.760422129525127| 5.732879480947851|0.13591901372158327|[64.5148167224705...| 0.03117142113916878|\n",
      "|       irvinky01|2024.0-2025.0|        Kyrie Irving|32.0| 64.24971480636314| 32.59913258290695| 0.3448108912573457|4.8338862682815344|0.47573188395625055|0.8357098787158399| 4.635396189431439| 1.121882069560621| 0.4501700468314095|1.9211304024567597|19.516679223972933| 5.922416941318159|0.13623382533131959|[64.2497148063631...|0.030547470839557486|\n",
      "|       sextoco01|2024.0-2025.0|       Collin Sexton|26.0|  62.5668529121432|26.418599782993834|0.34979077967421845| 2.797932822135408|0.46331501525626473|0.8380345043174624|4.2393070693086115|0.8466714169534404|0.18952025672540443|1.9065774737318615|14.509594714283894| 4.654973874138524|0.11522682297528306|[62.5668529121432...|0.030444625443730212|\n",
      "|       halibty01|2024.0-2025.0|   Tyrese Haliburton|24.0| 64.27568021223203|32.248330033147845|  0.333344679806832| 4.621458958643968| 0.4808987082968181|0.8301419119430462| 6.637051436674143|1.1317761598354341|  0.511748989504313|2.3275793644591785| 19.25901411967818|   7.8413350195876|0.17231361754125238|[64.2756802122320...|  0.0304026479808047|\n",
      "+----------------+-------------+--------------------+----+------------------+------------------+-------------------+------------------+-------------------+------------------+------------------+------------------+-------------------+------------------+------------------+------------------+-------------------+--------------------+--------------------+\n",
      "only showing top 20 rows\n",
      "\n"
     ]
    }
   ],
   "source": [
    "mvp_predictions.orderBy(col(\"prediction\").desc()).show()"
   ]
  }
 ],
 "metadata": {
  "kernelspec": {
   "display_name": "Python 3",
   "language": "python",
   "name": "python3"
  },
  "language_info": {
   "codemirror_mode": {
    "name": "ipython",
    "version": 3
   },
   "file_extension": ".py",
   "mimetype": "text/x-python",
   "name": "python",
   "nbconvert_exporter": "python",
   "pygments_lexer": "ipython3",
   "version": "3.11.4"
  }
 },
 "nbformat": 4,
 "nbformat_minor": 2
}
